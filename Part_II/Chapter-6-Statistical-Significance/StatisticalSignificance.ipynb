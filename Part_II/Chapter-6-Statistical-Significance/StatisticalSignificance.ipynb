{
 "cells": [
  {
   "cell_type": "markdown",
   "id": "28879df9",
   "metadata": {},
   "source": [
    "# Statistical Significance"
   ]
  },
  {
   "cell_type": "code",
   "execution_count": 2,
   "id": "4a54b3c9",
   "metadata": {},
   "outputs": [
    {
     "name": "stdout",
     "output_type": "stream",
     "text": [
      "Python version:      3.9.7\n",
      "sklearn version:     1.1.2\n",
      "numpy version:       1.20.3\n",
      "matplotlib version:  3.4.3\n",
      "pandas version:      1.3.4\n",
      "sklearn version:     1.1.2\n"
     ]
    }
   ],
   "source": [
    "import sklearn\n",
    "import numpy as np\n",
    "import matplotlib\n",
    "import pandas as pd\n",
    "import sklearn\n",
    "from platform import python_version\n",
    "\n",
    "print(\"Python version:     \", python_version())\n",
    "print(\"sklearn version:    \", sklearn.__version__)\n",
    "print(\"numpy version:      \", np.__version__)\n",
    "print(\"matplotlib version: \", matplotlib.__version__)\n",
    "print(\"pandas version:     \", pd.__version__)\n",
    "print(\"sklearn version:    \", sklearn.__version__)\n"
   ]
  },
  {
   "cell_type": "markdown",
   "id": "0a9fb293",
   "metadata": {},
   "source": [
    "## 6.2 Null Hypothesis Statistical Testing\n",
    "### 6.2.2 Comparing Two Classifiers on Multiple Domains\n",
    "#### Table 6.1 Wilcoxon's Signed-Ranks Test"
   ]
  },
  {
   "cell_type": "code",
   "execution_count": 3,
   "id": "993b3dc0",
   "metadata": {},
   "outputs": [],
   "source": [
    "# Load BreastCancer Dataset\n",
    "bc_link = \"https://archive.ics.uci.edu/ml/machine-learning-databases/breast-cancer-wisconsin/wdbc.data\"\n",
    "bc_data = pd.read_csv(bc_link, header = None)\n",
    "X = bc_data.iloc[:,2:33].to_numpy()\n",
    "\n",
    "y= bc_data.iloc[:,1].to_numpy()\n",
    "\n",
    "# Load Liver Dataset\n",
    "liv_link = \"https://archive.ics.uci.edu/ml/machine-learning-databases/liver-disorders/bupa.data\"\n",
    "liv_data = pd.read_csv(liv_link, header = None)\n",
    "X_1 = liv_data.iloc[:,0:5].to_numpy()\n",
    "y_1= liv_data.iloc[:,6].to_numpy()\n",
    "\n",
    "# Load Balance Scale Dataset\n",
    "balance_link = \"https://archive.ics.uci.edu/ml/machine-learning-databases/balance-scale/balance-scale.data\"\n",
    "balance_data = pd.read_csv(balance_link, header=None)\n",
    "X_2 = balance_data.iloc[:,1:4].to_numpy()\n",
    "y_2= balance_data.iloc[:,0].to_numpy()\n",
    "\n",
    "# Load Contact Lenses Dataset\n",
    "contacts_link = \"https://archive.ics.uci.edu/ml/machine-learning-databases/lenses/lenses.data\"\n",
    "contacts_data = pd.read_csv(contacts_link, header=None, delimiter=r\"\\s+\")\n",
    "X_3 = balance_data.iloc[:,2:5].astype(\"category\").to_numpy()\n",
    "y_3= balance_data.iloc[:,1].astype(\"category\").to_numpy()\n",
    "\n",
    "# Load Pima Diabetes Dataset\n",
    "#diabetes_link = \n",
    "# The dataset is no longer available on UCI, permission restrictions were cited\n",
    "\n",
    "# Glass Dataset\n",
    "glass_link = \"https://archive.ics.uci.edu/ml/machine-learning-databases/glass/glass.data\"\n",
    "glass_data = pd.read_csv(glass_link, header=None)\n",
    "\n",
    "# Hepatitis Dataset\n",
    "hepatitis_link = \"https://archive.ics.uci.edu/ml/machine-learning-databases/hepatitis/hepatitis.data\"\n",
    "hepatitis_data = pd.read_csv(hepatitis_link, header=None)\n",
    "\n",
    "# Hypothyroid Dataset\n",
    "hypothyroid_link = \"https://archive.ics.uci.edu/ml/machine-learning-databases/thyroid-disease/hypothyroid.data\"\n",
    "hypothyroid_data = pd.read_csv(hypothyroid_link, header=None)\n",
    "\n",
    "# Load Anneal Dataset\n",
    "anneal_link = \"https://archive.ics.uci.edu/ml/machine-learning-databases/annealing/anneal.data\"\n",
    "anneal_data = pd.read_csv(anneal_link, header = None)\n",
    "#X_2 = liv_data.iloc[:,0:5].to_numpy()\n",
    "#y_2= liv_data.iloc[:,6].to_numpy()"
   ]
  },
  {
   "cell_type": "code",
   "execution_count": 4,
   "id": "a4130b29",
   "metadata": {},
   "outputs": [
    {
     "data": {
      "text/html": [
       "<div>\n",
       "<style scoped>\n",
       "    .dataframe tbody tr th:only-of-type {\n",
       "        vertical-align: middle;\n",
       "    }\n",
       "\n",
       "    .dataframe tbody tr th {\n",
       "        vertical-align: top;\n",
       "    }\n",
       "\n",
       "    .dataframe thead th {\n",
       "        text-align: right;\n",
       "    }\n",
       "</style>\n",
       "<table border=\"1\" class=\"dataframe\">\n",
       "  <thead>\n",
       "    <tr style=\"text-align: right;\">\n",
       "      <th></th>\n",
       "      <th>0</th>\n",
       "      <th>1</th>\n",
       "      <th>2</th>\n",
       "      <th>3</th>\n",
       "      <th>4</th>\n",
       "      <th>5</th>\n",
       "    </tr>\n",
       "  </thead>\n",
       "  <tbody>\n",
       "    <tr>\n",
       "      <th>0</th>\n",
       "      <td>1</td>\n",
       "      <td>1</td>\n",
       "      <td>1</td>\n",
       "      <td>1</td>\n",
       "      <td>1</td>\n",
       "      <td>3</td>\n",
       "    </tr>\n",
       "    <tr>\n",
       "      <th>1</th>\n",
       "      <td>2</td>\n",
       "      <td>1</td>\n",
       "      <td>1</td>\n",
       "      <td>1</td>\n",
       "      <td>2</td>\n",
       "      <td>2</td>\n",
       "    </tr>\n",
       "    <tr>\n",
       "      <th>2</th>\n",
       "      <td>3</td>\n",
       "      <td>1</td>\n",
       "      <td>1</td>\n",
       "      <td>2</td>\n",
       "      <td>1</td>\n",
       "      <td>3</td>\n",
       "    </tr>\n",
       "    <tr>\n",
       "      <th>3</th>\n",
       "      <td>4</td>\n",
       "      <td>1</td>\n",
       "      <td>1</td>\n",
       "      <td>2</td>\n",
       "      <td>2</td>\n",
       "      <td>1</td>\n",
       "    </tr>\n",
       "    <tr>\n",
       "      <th>4</th>\n",
       "      <td>5</td>\n",
       "      <td>1</td>\n",
       "      <td>2</td>\n",
       "      <td>1</td>\n",
       "      <td>1</td>\n",
       "      <td>3</td>\n",
       "    </tr>\n",
       "    <tr>\n",
       "      <th>5</th>\n",
       "      <td>6</td>\n",
       "      <td>1</td>\n",
       "      <td>2</td>\n",
       "      <td>1</td>\n",
       "      <td>2</td>\n",
       "      <td>2</td>\n",
       "    </tr>\n",
       "    <tr>\n",
       "      <th>6</th>\n",
       "      <td>7</td>\n",
       "      <td>1</td>\n",
       "      <td>2</td>\n",
       "      <td>2</td>\n",
       "      <td>1</td>\n",
       "      <td>3</td>\n",
       "    </tr>\n",
       "    <tr>\n",
       "      <th>7</th>\n",
       "      <td>8</td>\n",
       "      <td>1</td>\n",
       "      <td>2</td>\n",
       "      <td>2</td>\n",
       "      <td>2</td>\n",
       "      <td>1</td>\n",
       "    </tr>\n",
       "    <tr>\n",
       "      <th>8</th>\n",
       "      <td>9</td>\n",
       "      <td>2</td>\n",
       "      <td>1</td>\n",
       "      <td>1</td>\n",
       "      <td>1</td>\n",
       "      <td>3</td>\n",
       "    </tr>\n",
       "    <tr>\n",
       "      <th>9</th>\n",
       "      <td>10</td>\n",
       "      <td>2</td>\n",
       "      <td>1</td>\n",
       "      <td>1</td>\n",
       "      <td>2</td>\n",
       "      <td>2</td>\n",
       "    </tr>\n",
       "    <tr>\n",
       "      <th>10</th>\n",
       "      <td>11</td>\n",
       "      <td>2</td>\n",
       "      <td>1</td>\n",
       "      <td>2</td>\n",
       "      <td>1</td>\n",
       "      <td>3</td>\n",
       "    </tr>\n",
       "    <tr>\n",
       "      <th>11</th>\n",
       "      <td>12</td>\n",
       "      <td>2</td>\n",
       "      <td>1</td>\n",
       "      <td>2</td>\n",
       "      <td>2</td>\n",
       "      <td>1</td>\n",
       "    </tr>\n",
       "    <tr>\n",
       "      <th>12</th>\n",
       "      <td>13</td>\n",
       "      <td>2</td>\n",
       "      <td>2</td>\n",
       "      <td>1</td>\n",
       "      <td>1</td>\n",
       "      <td>3</td>\n",
       "    </tr>\n",
       "    <tr>\n",
       "      <th>13</th>\n",
       "      <td>14</td>\n",
       "      <td>2</td>\n",
       "      <td>2</td>\n",
       "      <td>1</td>\n",
       "      <td>2</td>\n",
       "      <td>2</td>\n",
       "    </tr>\n",
       "    <tr>\n",
       "      <th>14</th>\n",
       "      <td>15</td>\n",
       "      <td>2</td>\n",
       "      <td>2</td>\n",
       "      <td>2</td>\n",
       "      <td>1</td>\n",
       "      <td>3</td>\n",
       "    </tr>\n",
       "    <tr>\n",
       "      <th>15</th>\n",
       "      <td>16</td>\n",
       "      <td>2</td>\n",
       "      <td>2</td>\n",
       "      <td>2</td>\n",
       "      <td>2</td>\n",
       "      <td>3</td>\n",
       "    </tr>\n",
       "    <tr>\n",
       "      <th>16</th>\n",
       "      <td>17</td>\n",
       "      <td>3</td>\n",
       "      <td>1</td>\n",
       "      <td>1</td>\n",
       "      <td>1</td>\n",
       "      <td>3</td>\n",
       "    </tr>\n",
       "    <tr>\n",
       "      <th>17</th>\n",
       "      <td>18</td>\n",
       "      <td>3</td>\n",
       "      <td>1</td>\n",
       "      <td>1</td>\n",
       "      <td>2</td>\n",
       "      <td>3</td>\n",
       "    </tr>\n",
       "    <tr>\n",
       "      <th>18</th>\n",
       "      <td>19</td>\n",
       "      <td>3</td>\n",
       "      <td>1</td>\n",
       "      <td>2</td>\n",
       "      <td>1</td>\n",
       "      <td>3</td>\n",
       "    </tr>\n",
       "    <tr>\n",
       "      <th>19</th>\n",
       "      <td>20</td>\n",
       "      <td>3</td>\n",
       "      <td>1</td>\n",
       "      <td>2</td>\n",
       "      <td>2</td>\n",
       "      <td>1</td>\n",
       "    </tr>\n",
       "    <tr>\n",
       "      <th>20</th>\n",
       "      <td>21</td>\n",
       "      <td>3</td>\n",
       "      <td>2</td>\n",
       "      <td>1</td>\n",
       "      <td>1</td>\n",
       "      <td>3</td>\n",
       "    </tr>\n",
       "    <tr>\n",
       "      <th>21</th>\n",
       "      <td>22</td>\n",
       "      <td>3</td>\n",
       "      <td>2</td>\n",
       "      <td>1</td>\n",
       "      <td>2</td>\n",
       "      <td>2</td>\n",
       "    </tr>\n",
       "    <tr>\n",
       "      <th>22</th>\n",
       "      <td>23</td>\n",
       "      <td>3</td>\n",
       "      <td>2</td>\n",
       "      <td>2</td>\n",
       "      <td>1</td>\n",
       "      <td>3</td>\n",
       "    </tr>\n",
       "    <tr>\n",
       "      <th>23</th>\n",
       "      <td>24</td>\n",
       "      <td>3</td>\n",
       "      <td>2</td>\n",
       "      <td>2</td>\n",
       "      <td>2</td>\n",
       "      <td>3</td>\n",
       "    </tr>\n",
       "  </tbody>\n",
       "</table>\n",
       "</div>"
      ],
      "text/plain": [
       "     0  1  2  3  4  5\n",
       "0    1  1  1  1  1  3\n",
       "1    2  1  1  1  2  2\n",
       "2    3  1  1  2  1  3\n",
       "3    4  1  1  2  2  1\n",
       "4    5  1  2  1  1  3\n",
       "5    6  1  2  1  2  2\n",
       "6    7  1  2  2  1  3\n",
       "7    8  1  2  2  2  1\n",
       "8    9  2  1  1  1  3\n",
       "9   10  2  1  1  2  2\n",
       "10  11  2  1  2  1  3\n",
       "11  12  2  1  2  2  1\n",
       "12  13  2  2  1  1  3\n",
       "13  14  2  2  1  2  2\n",
       "14  15  2  2  2  1  3\n",
       "15  16  2  2  2  2  3\n",
       "16  17  3  1  1  1  3\n",
       "17  18  3  1  1  2  3\n",
       "18  19  3  1  2  1  3\n",
       "19  20  3  1  2  2  1\n",
       "20  21  3  2  1  1  3\n",
       "21  22  3  2  1  2  2\n",
       "22  23  3  2  2  1  3\n",
       "23  24  3  2  2  2  3"
      ]
     },
     "execution_count": 4,
     "metadata": {},
     "output_type": "execute_result"
    }
   ],
   "source": [
    "contacts_data"
   ]
  },
  {
   "cell_type": "code",
   "execution_count": 5,
   "id": "eb444d1b",
   "metadata": {},
   "outputs": [
    {
     "data": {
      "text/html": [
       "<div>\n",
       "<style scoped>\n",
       "    .dataframe tbody tr th:only-of-type {\n",
       "        vertical-align: middle;\n",
       "    }\n",
       "\n",
       "    .dataframe tbody tr th {\n",
       "        vertical-align: top;\n",
       "    }\n",
       "\n",
       "    .dataframe thead th {\n",
       "        text-align: right;\n",
       "    }\n",
       "</style>\n",
       "<table border=\"1\" class=\"dataframe\">\n",
       "  <thead>\n",
       "    <tr style=\"text-align: right;\">\n",
       "      <th></th>\n",
       "      <th>0</th>\n",
       "      <th>1</th>\n",
       "      <th>2</th>\n",
       "      <th>3</th>\n",
       "      <th>4</th>\n",
       "      <th>5</th>\n",
       "      <th>6</th>\n",
       "      <th>7</th>\n",
       "      <th>8</th>\n",
       "      <th>9</th>\n",
       "      <th>...</th>\n",
       "      <th>16</th>\n",
       "      <th>17</th>\n",
       "      <th>18</th>\n",
       "      <th>19</th>\n",
       "      <th>20</th>\n",
       "      <th>21</th>\n",
       "      <th>22</th>\n",
       "      <th>23</th>\n",
       "      <th>24</th>\n",
       "      <th>25</th>\n",
       "    </tr>\n",
       "  </thead>\n",
       "  <tbody>\n",
       "    <tr>\n",
       "      <th>0</th>\n",
       "      <td>hypothyroid</td>\n",
       "      <td>72</td>\n",
       "      <td>M</td>\n",
       "      <td>f</td>\n",
       "      <td>f</td>\n",
       "      <td>f</td>\n",
       "      <td>f</td>\n",
       "      <td>f</td>\n",
       "      <td>f</td>\n",
       "      <td>f</td>\n",
       "      <td>...</td>\n",
       "      <td>y</td>\n",
       "      <td>0.60</td>\n",
       "      <td>y</td>\n",
       "      <td>15</td>\n",
       "      <td>y</td>\n",
       "      <td>1.48</td>\n",
       "      <td>y</td>\n",
       "      <td>10</td>\n",
       "      <td>n</td>\n",
       "      <td>?</td>\n",
       "    </tr>\n",
       "    <tr>\n",
       "      <th>1</th>\n",
       "      <td>hypothyroid</td>\n",
       "      <td>15</td>\n",
       "      <td>F</td>\n",
       "      <td>t</td>\n",
       "      <td>f</td>\n",
       "      <td>f</td>\n",
       "      <td>f</td>\n",
       "      <td>f</td>\n",
       "      <td>f</td>\n",
       "      <td>f</td>\n",
       "      <td>...</td>\n",
       "      <td>y</td>\n",
       "      <td>1.70</td>\n",
       "      <td>y</td>\n",
       "      <td>19</td>\n",
       "      <td>y</td>\n",
       "      <td>1.13</td>\n",
       "      <td>y</td>\n",
       "      <td>17</td>\n",
       "      <td>n</td>\n",
       "      <td>?</td>\n",
       "    </tr>\n",
       "    <tr>\n",
       "      <th>2</th>\n",
       "      <td>hypothyroid</td>\n",
       "      <td>24</td>\n",
       "      <td>M</td>\n",
       "      <td>f</td>\n",
       "      <td>f</td>\n",
       "      <td>f</td>\n",
       "      <td>f</td>\n",
       "      <td>f</td>\n",
       "      <td>f</td>\n",
       "      <td>f</td>\n",
       "      <td>...</td>\n",
       "      <td>y</td>\n",
       "      <td>0.20</td>\n",
       "      <td>y</td>\n",
       "      <td>4</td>\n",
       "      <td>y</td>\n",
       "      <td>1</td>\n",
       "      <td>y</td>\n",
       "      <td>0</td>\n",
       "      <td>n</td>\n",
       "      <td>?</td>\n",
       "    </tr>\n",
       "    <tr>\n",
       "      <th>3</th>\n",
       "      <td>hypothyroid</td>\n",
       "      <td>24</td>\n",
       "      <td>F</td>\n",
       "      <td>f</td>\n",
       "      <td>f</td>\n",
       "      <td>f</td>\n",
       "      <td>f</td>\n",
       "      <td>f</td>\n",
       "      <td>f</td>\n",
       "      <td>f</td>\n",
       "      <td>...</td>\n",
       "      <td>y</td>\n",
       "      <td>0.40</td>\n",
       "      <td>y</td>\n",
       "      <td>6</td>\n",
       "      <td>y</td>\n",
       "      <td>1.04</td>\n",
       "      <td>y</td>\n",
       "      <td>6</td>\n",
       "      <td>n</td>\n",
       "      <td>?</td>\n",
       "    </tr>\n",
       "    <tr>\n",
       "      <th>4</th>\n",
       "      <td>hypothyroid</td>\n",
       "      <td>77</td>\n",
       "      <td>M</td>\n",
       "      <td>f</td>\n",
       "      <td>f</td>\n",
       "      <td>f</td>\n",
       "      <td>f</td>\n",
       "      <td>f</td>\n",
       "      <td>f</td>\n",
       "      <td>f</td>\n",
       "      <td>...</td>\n",
       "      <td>y</td>\n",
       "      <td>1.20</td>\n",
       "      <td>y</td>\n",
       "      <td>57</td>\n",
       "      <td>y</td>\n",
       "      <td>1.28</td>\n",
       "      <td>y</td>\n",
       "      <td>44</td>\n",
       "      <td>n</td>\n",
       "      <td>?</td>\n",
       "    </tr>\n",
       "    <tr>\n",
       "      <th>...</th>\n",
       "      <td>...</td>\n",
       "      <td>...</td>\n",
       "      <td>...</td>\n",
       "      <td>...</td>\n",
       "      <td>...</td>\n",
       "      <td>...</td>\n",
       "      <td>...</td>\n",
       "      <td>...</td>\n",
       "      <td>...</td>\n",
       "      <td>...</td>\n",
       "      <td>...</td>\n",
       "      <td>...</td>\n",
       "      <td>...</td>\n",
       "      <td>...</td>\n",
       "      <td>...</td>\n",
       "      <td>...</td>\n",
       "      <td>...</td>\n",
       "      <td>...</td>\n",
       "      <td>...</td>\n",
       "      <td>...</td>\n",
       "      <td>...</td>\n",
       "    </tr>\n",
       "    <tr>\n",
       "      <th>3158</th>\n",
       "      <td>negative</td>\n",
       "      <td>58</td>\n",
       "      <td>F</td>\n",
       "      <td>f</td>\n",
       "      <td>f</td>\n",
       "      <td>f</td>\n",
       "      <td>f</td>\n",
       "      <td>f</td>\n",
       "      <td>f</td>\n",
       "      <td>f</td>\n",
       "      <td>...</td>\n",
       "      <td>y</td>\n",
       "      <td>1.70</td>\n",
       "      <td>y</td>\n",
       "      <td>86</td>\n",
       "      <td>y</td>\n",
       "      <td>0.91</td>\n",
       "      <td>y</td>\n",
       "      <td>95</td>\n",
       "      <td>n</td>\n",
       "      <td>?</td>\n",
       "    </tr>\n",
       "    <tr>\n",
       "      <th>3159</th>\n",
       "      <td>negative</td>\n",
       "      <td>29</td>\n",
       "      <td>F</td>\n",
       "      <td>f</td>\n",
       "      <td>f</td>\n",
       "      <td>f</td>\n",
       "      <td>f</td>\n",
       "      <td>f</td>\n",
       "      <td>f</td>\n",
       "      <td>f</td>\n",
       "      <td>...</td>\n",
       "      <td>y</td>\n",
       "      <td>1.80</td>\n",
       "      <td>y</td>\n",
       "      <td>99</td>\n",
       "      <td>y</td>\n",
       "      <td>1.01</td>\n",
       "      <td>y</td>\n",
       "      <td>98</td>\n",
       "      <td>n</td>\n",
       "      <td>?</td>\n",
       "    </tr>\n",
       "    <tr>\n",
       "      <th>3160</th>\n",
       "      <td>negative</td>\n",
       "      <td>77</td>\n",
       "      <td>M</td>\n",
       "      <td>f</td>\n",
       "      <td>f</td>\n",
       "      <td>f</td>\n",
       "      <td>f</td>\n",
       "      <td>f</td>\n",
       "      <td>f</td>\n",
       "      <td>f</td>\n",
       "      <td>...</td>\n",
       "      <td>y</td>\n",
       "      <td>0.60</td>\n",
       "      <td>y</td>\n",
       "      <td>71</td>\n",
       "      <td>y</td>\n",
       "      <td>0.68</td>\n",
       "      <td>y</td>\n",
       "      <td>104</td>\n",
       "      <td>n</td>\n",
       "      <td>?</td>\n",
       "    </tr>\n",
       "    <tr>\n",
       "      <th>3161</th>\n",
       "      <td>negative</td>\n",
       "      <td>74</td>\n",
       "      <td>F</td>\n",
       "      <td>f</td>\n",
       "      <td>f</td>\n",
       "      <td>f</td>\n",
       "      <td>f</td>\n",
       "      <td>f</td>\n",
       "      <td>f</td>\n",
       "      <td>f</td>\n",
       "      <td>...</td>\n",
       "      <td>y</td>\n",
       "      <td>0.10</td>\n",
       "      <td>y</td>\n",
       "      <td>65</td>\n",
       "      <td>y</td>\n",
       "      <td>0.48</td>\n",
       "      <td>y</td>\n",
       "      <td>137</td>\n",
       "      <td>n</td>\n",
       "      <td>?</td>\n",
       "    </tr>\n",
       "    <tr>\n",
       "      <th>3162</th>\n",
       "      <td>negative</td>\n",
       "      <td>56</td>\n",
       "      <td>F</td>\n",
       "      <td>t</td>\n",
       "      <td>f</td>\n",
       "      <td>f</td>\n",
       "      <td>f</td>\n",
       "      <td>f</td>\n",
       "      <td>f</td>\n",
       "      <td>f</td>\n",
       "      <td>...</td>\n",
       "      <td>y</td>\n",
       "      <td>1.80</td>\n",
       "      <td>y</td>\n",
       "      <td>139</td>\n",
       "      <td>y</td>\n",
       "      <td>0.97</td>\n",
       "      <td>y</td>\n",
       "      <td>143</td>\n",
       "      <td>n</td>\n",
       "      <td>?</td>\n",
       "    </tr>\n",
       "  </tbody>\n",
       "</table>\n",
       "<p>3163 rows × 26 columns</p>\n",
       "</div>"
      ],
      "text/plain": [
       "               0   1  2  3  4  5  6  7  8  9   ... 16    17 18   19 20    21  \\\n",
       "0     hypothyroid  72  M  f  f  f  f  f  f  f  ...  y  0.60  y   15  y  1.48   \n",
       "1     hypothyroid  15  F  t  f  f  f  f  f  f  ...  y  1.70  y   19  y  1.13   \n",
       "2     hypothyroid  24  M  f  f  f  f  f  f  f  ...  y  0.20  y    4  y     1   \n",
       "3     hypothyroid  24  F  f  f  f  f  f  f  f  ...  y  0.40  y    6  y  1.04   \n",
       "4     hypothyroid  77  M  f  f  f  f  f  f  f  ...  y  1.20  y   57  y  1.28   \n",
       "...           ...  .. .. .. .. .. .. .. .. ..  ... ..   ... ..  ... ..   ...   \n",
       "3158     negative  58  F  f  f  f  f  f  f  f  ...  y  1.70  y   86  y  0.91   \n",
       "3159     negative  29  F  f  f  f  f  f  f  f  ...  y  1.80  y   99  y  1.01   \n",
       "3160     negative  77  M  f  f  f  f  f  f  f  ...  y  0.60  y   71  y  0.68   \n",
       "3161     negative  74  F  f  f  f  f  f  f  f  ...  y  0.10  y   65  y  0.48   \n",
       "3162     negative  56  F  t  f  f  f  f  f  f  ...  y  1.80  y  139  y  0.97   \n",
       "\n",
       "     22   23 24 25  \n",
       "0     y   10  n  ?  \n",
       "1     y   17  n  ?  \n",
       "2     y    0  n  ?  \n",
       "3     y    6  n  ?  \n",
       "4     y   44  n  ?  \n",
       "...  ..  ... .. ..  \n",
       "3158  y   95  n  ?  \n",
       "3159  y   98  n  ?  \n",
       "3160  y  104  n  ?  \n",
       "3161  y  137  n  ?  \n",
       "3162  y  143  n  ?  \n",
       "\n",
       "[3163 rows x 26 columns]"
      ]
     },
     "execution_count": 5,
     "metadata": {},
     "output_type": "execute_result"
    }
   ],
   "source": [
    "hypothyroid_data"
   ]
  },
  {
   "cell_type": "code",
   "execution_count": 6,
   "id": "096abc31",
   "metadata": {},
   "outputs": [
    {
     "ename": "NameError",
     "evalue": "name 'hypothryoid_data' is not defined",
     "output_type": "error",
     "traceback": [
      "\u001b[0;31m---------------------------------------------------------------------------\u001b[0m",
      "\u001b[0;31mNameError\u001b[0m                                 Traceback (most recent call last)",
      "\u001b[0;32m/var/folders/_c/fsfbgcnx3gvbzjlsc1zwb36c0000gn/T/ipykernel_53082/4248560975.py\u001b[0m in \u001b[0;36m<module>\u001b[0;34m\u001b[0m\n\u001b[0;32m----> 1\u001b[0;31m \u001b[0mhypothryoid_data\u001b[0m\u001b[0;34m\u001b[0m\u001b[0;34m\u001b[0m\u001b[0m\n\u001b[0m",
      "\u001b[0;31mNameError\u001b[0m: name 'hypothryoid_data' is not defined"
     ]
    }
   ],
   "source": [
    "hypothryoid_data"
   ]
  },
  {
   "cell_type": "markdown",
   "id": "30e0f89d",
   "metadata": {},
   "source": [
    "Split data:"
   ]
  },
  {
   "cell_type": "code",
   "execution_count": 7,
   "id": "9085ad0c",
   "metadata": {},
   "outputs": [
    {
     "ename": "NameError",
     "evalue": "name 'X_4' is not defined",
     "output_type": "error",
     "traceback": [
      "\u001b[0;31m---------------------------------------------------------------------------\u001b[0m",
      "\u001b[0;31mNameError\u001b[0m                                 Traceback (most recent call last)",
      "\u001b[0;32m/var/folders/_c/fsfbgcnx3gvbzjlsc1zwb36c0000gn/T/ipykernel_53082/514874547.py\u001b[0m in \u001b[0;36m<module>\u001b[0;34m\u001b[0m\n\u001b[1;32m     19\u001b[0m \u001b[0;31m# Glass\u001b[0m\u001b[0;34m\u001b[0m\u001b[0;34m\u001b[0m\u001b[0m\n\u001b[1;32m     20\u001b[0m \u001b[0;31m# Split data into training and testing sets\u001b[0m\u001b[0;34m\u001b[0m\u001b[0;34m\u001b[0m\u001b[0m\n\u001b[0;32m---> 21\u001b[0;31m \u001b[0mX_train_4\u001b[0m\u001b[0;34m,\u001b[0m \u001b[0mX_test_4\u001b[0m\u001b[0;34m,\u001b[0m \u001b[0my_train_4\u001b[0m\u001b[0;34m,\u001b[0m \u001b[0my_test_4\u001b[0m \u001b[0;34m=\u001b[0m \u001b[0mtrain_test_split\u001b[0m\u001b[0;34m(\u001b[0m\u001b[0mX_4\u001b[0m\u001b[0;34m,\u001b[0m \u001b[0my_4\u001b[0m\u001b[0;34m,\u001b[0m \u001b[0mtest_size\u001b[0m\u001b[0;34m=\u001b[0m\u001b[0;36m0.20\u001b[0m\u001b[0;34m)\u001b[0m\u001b[0;34m\u001b[0m\u001b[0;34m\u001b[0m\u001b[0m\n\u001b[0m\u001b[1;32m     22\u001b[0m \u001b[0;34m\u001b[0m\u001b[0m\n\u001b[1;32m     23\u001b[0m \u001b[0;31m# Hepatitis\u001b[0m\u001b[0;34m\u001b[0m\u001b[0;34m\u001b[0m\u001b[0m\n",
      "\u001b[0;31mNameError\u001b[0m: name 'X_4' is not defined"
     ]
    }
   ],
   "source": [
    "from sklearn.model_selection import train_test_split\n",
    "\n",
    "# Breast Cancer\n",
    "# Split data into training and testing sets\n",
    "X_train, X_test, y_train, y_test = train_test_split(X, y, test_size=0.20)\n",
    "\n",
    "# Liver\n",
    "# Split data into training and testing sets\n",
    "X_train_1, X_test_1, y_train_1, y_test_1 = train_test_split(X_1, y_1, test_size=0.20)\n",
    "\n",
    "# Balance Scale\n",
    "# Split data into training and testing sets\n",
    "X_train_2, X_test_2, y_train_2, y_test_2 = train_test_split(X_2, y_2, test_size=0.20)\n",
    "\n",
    "# Contact Lenses\n",
    "# Split data into training and testing sets\n",
    "X_train_3, X_test_3, y_train_3, y_test_3 = train_test_split(X_3, y_3, test_size=0.20)\n",
    "\n",
    "# Glass\n",
    "# Split data into training and testing sets\n",
    "X_train_4, X_test_4, y_train_4, y_test_4 = train_test_split(X_4, y_4, test_size=0.20)\n",
    "\n",
    "# Hepatitis\n",
    "# Split data into training and testing sets\n",
    "X_train_5, X_test_5, y_train_5, y_test_5 = train_test_split(X_5, y_5, test_size=0.20)\n",
    "\n",
    "# Hypothyroid\n",
    "# Split data into training and testing sets\n",
    "X_train_6, X_test_6, y_train_6, y_test_6 = train_test_split(X_6, y_6, test_size=0.20)\n",
    "\n"
   ]
  },
  {
   "cell_type": "markdown",
   "id": "fc278fd2",
   "metadata": {},
   "source": [
    "Train classifiers:"
   ]
  },
  {
   "cell_type": "code",
   "execution_count": 39,
   "id": "6d6f2af1",
   "metadata": {},
   "outputs": [],
   "source": [
    "# Breast_Cancer\n",
    "np.random.seed(42)\n",
    "# Naive Bayes\n",
    "from sklearn.naive_bayes import GaussianNB\n",
    "NBclf = GaussianNB()\n",
    "NBclf.fit(X_train, y_train)\n",
    "nb_preds = NBclf.predict(X_test)\n",
    "\n",
    "# SVM\n",
    "from sklearn.svm import SVC\n",
    "SVMclf = SVC()\n",
    "SVMclf.fit(X_train, y_train)\n",
    "svm_preds = SVMclf.predict(X_test)\n",
    "\n",
    "# Liver\n",
    "\n",
    "np.random.seed(42)\n",
    "# Naive Bayes\n",
    "NBclf = GaussianNB()\n",
    "NBclf.fit(X_train_1, y_train_1)\n",
    "nb_preds_1 = NBclf.predict(X_test_1)\n",
    "\n",
    "# SVM\n",
    "SVMclf = SVC()\n",
    "SVMclf.fit(X_train_1, y_train_1)\n",
    "svm_preds_1 = SVMclf.predict(X_test_1)\n",
    "\n",
    "\n",
    "# Balance Scale"
   ]
  },
  {
   "cell_type": "code",
   "execution_count": 40,
   "id": "197f6e98",
   "metadata": {
    "scrolled": true
   },
   "outputs": [
    {
     "data": {
      "text/html": [
       "<div>\n",
       "<style scoped>\n",
       "    .dataframe tbody tr th:only-of-type {\n",
       "        vertical-align: middle;\n",
       "    }\n",
       "\n",
       "    .dataframe tbody tr th {\n",
       "        vertical-align: top;\n",
       "    }\n",
       "\n",
       "    .dataframe thead th {\n",
       "        text-align: right;\n",
       "    }\n",
       "</style>\n",
       "<table border=\"1\" class=\"dataframe\">\n",
       "  <thead>\n",
       "    <tr style=\"text-align: right;\">\n",
       "      <th></th>\n",
       "      <th>NB Accuracy</th>\n",
       "      <th>SVM Accuracy</th>\n",
       "      <th>NB-SVM</th>\n",
       "      <th>|NB-SVM|</th>\n",
       "      <th>Ranks(|NB-SVM|)</th>\n",
       "      <th>+/- Ranks(|NB-SVM|)</th>\n",
       "    </tr>\n",
       "  </thead>\n",
       "  <tbody>\n",
       "    <tr>\n",
       "      <th>0</th>\n",
       "      <td>0.921053</td>\n",
       "      <td>0.903509</td>\n",
       "      <td>0.017544</td>\n",
       "      <td>0.017544</td>\n",
       "      <td>1</td>\n",
       "      <td>1.0</td>\n",
       "    </tr>\n",
       "    <tr>\n",
       "      <th>1</th>\n",
       "      <td>0.521739</td>\n",
       "      <td>0.753623</td>\n",
       "      <td>-0.231884</td>\n",
       "      <td>0.231884</td>\n",
       "      <td>2</td>\n",
       "      <td>-2.0</td>\n",
       "    </tr>\n",
       "  </tbody>\n",
       "</table>\n",
       "</div>"
      ],
      "text/plain": [
       "   NB Accuracy  SVM Accuracy    NB-SVM  |NB-SVM|  Ranks(|NB-SVM|)  \\\n",
       "0     0.921053      0.903509  0.017544  0.017544                1   \n",
       "1     0.521739      0.753623 -0.231884  0.231884                2   \n",
       "\n",
       "   +/- Ranks(|NB-SVM|)  \n",
       "0                  1.0  \n",
       "1                 -2.0  "
      ]
     },
     "execution_count": 40,
     "metadata": {},
     "output_type": "execute_result"
    }
   ],
   "source": [
    "from sklearn.metrics import accuracy_score\n",
    "results = pd.DataFrame({\n",
    "    \"NB Accuracy\" : [accuracy_score(y_test, nb_preds), accuracy_score(y_test_1, nb_preds_1)],\n",
    "    \"SVM Accuracy\" : [accuracy_score(y_test, svm_preds), accuracy_score(y_test_1, svm_preds_1)],\n",
    "    }\n",
    ")\n",
    "\n",
    "results[\"NB-SVM\"] = results[\"NB Accuracy\"] - results[\"SVM Accuracy\"]\n",
    "results[\"|NB-SVM|\"] = abs(results[\"NB-SVM\"])\n",
    "order = results[\"|NB-SVM|\"].argsort()\n",
    "results[\"Ranks(|NB-SVM|)\"] = order.argsort() + 1\n",
    "results[\"+/- Ranks(|NB-SVM|)\"] = results[\"Ranks(|NB-SVM|)\"] * (results[\"NB-SVM\"] / results[\"|NB-SVM|\"])\n",
    "\n",
    "results.head()"
   ]
  },
  {
   "cell_type": "code",
   "execution_count": 41,
   "id": "00678e61",
   "metadata": {},
   "outputs": [
    {
     "data": {
      "text/plain": [
       "(1.0, 1.0)"
      ]
     },
     "execution_count": 41,
     "metadata": {},
     "output_type": "execute_result"
    }
   ],
   "source": [
    "from scipy.stats import wilcoxon\n",
    "wilcoxon_test = wilcoxon(results[\"NB-SVM\"])\n",
    "wilcoxon_test.statistic, wilcoxon_test.pvalue"
   ]
  },
  {
   "cell_type": "markdown",
   "id": "d87449d2",
   "metadata": {},
   "source": [
    "## 6.3 Estimation Statistics: Effect Size, Power and Confidence Intervals\n",
    "### 6.3.1 Confidence Intervals\n",
    "*Non-Parametric Confidence Intervals*"
   ]
  },
  {
   "cell_type": "code",
   "execution_count": 43,
   "id": "42d83a05",
   "metadata": {},
   "outputs": [
    {
     "ename": "IndentationError",
     "evalue": "expected an indented block (654986458.py, line 12)",
     "output_type": "error",
     "traceback": [
      "\u001b[0;36m  File \u001b[0;32m\"/var/folders/_c/fsfbgcnx3gvbzjlsc1zwb36c0000gn/T/ipykernel_93573/654986458.py\"\u001b[0;36m, line \u001b[0;32m12\u001b[0m\n\u001b[0;31m    indices = randint(0, 1000, 1000)\u001b[0m\n\u001b[0m    ^\u001b[0m\n\u001b[0;31mIndentationError\u001b[0m\u001b[0;31m:\u001b[0m expected an indented block\n"
     ]
    }
   ],
   "source": [
    "from numpy import mean\n",
    "from numpy import median\n",
    "from numpy import percentile\n",
    "# seed the random number generator\n",
    "seed(1)\n",
    "# generate dataset\n",
    "dataset = 0.5 + rand(1000) * 0.5\n",
    "# bootstrap\n",
    "scores = list()\n",
    "for _ in range(100):\n",
    "# bootstrap sample\n",
    "indices = randint(0, 1000, 1000)\n",
    "sample = dataset[indices]\n",
    "# calculate and store statistic\n",
    "statistic = mean(sample)\n",
    "scores.append(statistic)\n",
    "print(’50th percentile (median) = %.3f’ % median(scores))\n",
    "# calculate 95% confidence intervals (100 - alpha)\n",
    "alpha = 5.0\n",
    "# calculate lower percentile (e.g. 2.5)\n",
    "lower_p = alpha / 2.0\n",
    "# retrieve observation at lower percentile\n",
    "lower = max(0.0, percentile(scores, lower_p))\n",
    "print(’%.1fth percentile = %.3f’ % (lower_p, lower))\n",
    "# calculate upper percentile (e.g. 97.5)\n",
    "upper_p = (100 - alpha) + (alpha / 2.0)\n",
    "# retrieve observation at upper percentile\n",
    "upper = min(1.0, percentile(scores, upper_p))\n",
    "print(’%.1fth percentile = %.3f’ % (upper_p, upper))\n",
    "The result of this program is:\n",
    "50th percentile (median) = 0.750\n",
    "2.5th percentile = 0.741\n",
    "97.5th percentile = 0.757"
   ]
  },
  {
   "cell_type": "code",
   "execution_count": 45,
   "id": "9426316d",
   "metadata": {},
   "outputs": [],
   "source": [
    "# Get Data:\n",
    "def read_in(link, row_start, nrows):\n",
    "    return pd.read_csv(link, skiprows=row_start, nrows=nrows, on_bad_lines=\"skip\", delim_whitespace=\" \",\n",
    "                       index_col=\"#\", na_values=\"*\")\n",
    "\n",
    "# Training Set\n",
    "link = \"https://archive.ics.uci.edu/ml/machine-learning-databases/labor-negotiations/labor-negotiations.data\"\n",
    "good1 = read_in(link,row_start=152, nrows=18)\n",
    "good2 = read_in(link,row_start=173, nrows=18)\n",
    "good3 = read_in(link,row_start=194, nrows=18)\n",
    "good = good1.join(good2)\n",
    "good = good.join(good3)\n",
    "bad1 = read_in(link,row_start=216, nrows=9)\n",
    "bad2 = read_in(link,row_start=228, nrows=9)\n",
    "bad3 = read_in(link,row_start=240, nrows=9)\n",
    "bad = bad1.join(bad2)\n",
    "bad = bad.join(bad3)\n",
    "bad.index = np.arange(19,28)\n",
    "\n",
    "train = pd.concat([good,bad])\n",
    "train[\"status\"] = train.index <= 18\n"
   ]
  },
  {
   "cell_type": "code",
   "execution_count": 46,
   "id": "6f4f1fe2",
   "metadata": {},
   "outputs": [],
   "source": [
    "# Test Set\n",
    "link = \"https://archive.ics.uci.edu/ml/machine-learning-databases/labor-negotiations/labor-negotiations.test\"\n",
    "good1 = read_in(link,row_start=157, nrows=19)\n",
    "good2 = read_in(link,row_start=179, nrows=19)\n",
    "good3 = read_in(link,row_start=201, nrows=19)\n",
    "good = good1.join(good2)\n",
    "good = good.join(good3)\n",
    "\n",
    "bad1 = read_in(link,row_start=223, nrows=11)\n",
    "bad2 = read_in(link,row_start=237, nrows=11)\n",
    "bad3 = read_in(link,row_start=251, nrows=11)\n",
    "bad = bad1.join(bad2)\n",
    "bad = bad.join(bad3)\n",
    "bad.index = np.arange(20,31)\n",
    "\n",
    "test = pd.concat([good,bad])\n",
    "test[\"status\"] = test.index <= 19\n"
   ]
  },
  {
   "cell_type": "markdown",
   "id": "7d95d833",
   "metadata": {},
   "source": [
    "Combine train and test"
   ]
  },
  {
   "cell_type": "code",
   "execution_count": 47,
   "id": "c68c484a",
   "metadata": {},
   "outputs": [],
   "source": [
    "from sklearn.preprocessing import OneHotEncoder\n",
    "from numpy import concatenate\n",
    "\n",
    "combined = pd.concat([train,test]).reset_index().drop(\"index\",axis=1)# Combine train and test\n",
    "tmp = combined.select_dtypes(include=\"object\") # Convert to one hot\n",
    "one_hot = pd.get_dummies(tmp)\n",
    "\n",
    "\n",
    "#X = combined[[\"dur\",\"wage1\"]].drop(41).to_numpy(\"int32\") # NaN in the row 41\n",
    "tmp = combined.drop(\"status\", axis=1).select_dtypes(include=\"float64\")"
   ]
  },
  {
   "cell_type": "markdown",
   "id": "ac18f17e",
   "metadata": {},
   "source": [
    "Handle empty values:"
   ]
  },
  {
   "cell_type": "code",
   "execution_count": 48,
   "id": "1c1f8ee7",
   "metadata": {},
   "outputs": [],
   "source": [
    "from sklearn.impute import SimpleImputer\n",
    "from sklearn.compose import ColumnTransformer\n",
    "from sklearn.pipeline import Pipeline\n",
    "\n",
    "# These values being missing is indicative of them being absent from the agreements.\n",
    "needs_zeros = [\"dur\",\"wage1\", \"wage2\", \"wage3\", \"stby_pay\", \"shift_diff\"]\n",
    "# Only 6 are missing.  In the cases where they are missing, it is more likely actually missing than actually zero.\n",
    "needs_avg = [\"hours\"]\n",
    "# Today in Canada there are 10 federal work holidays.  Some of the entries have only 9, so I will impute that value.\n",
    "needs_min = [\"holidays\"] \n",
    "\n",
    "imp_zeros = SimpleImputer(missing_values=float(\"nan\"), strategy = \"constant\", fill_value=0)\n",
    "imp_avg = SimpleImputer(missing_values=float(\"nan\"), strategy=\"mean\")\n",
    "imp_min = SimpleImputer(missing_values=float(\"nan\"), strategy = \"constant\", fill_value=9)\n",
    "\n",
    "imp = ColumnTransformer(transformers=[(\"zeros\", imp_zeros, needs_zeros), (\"avg\", imp_avg, needs_avg), \n",
    "                                     (\"min\", imp_min, needs_min)])\n",
    "imp.fit(tmp)\n",
    "tmp = imp.transform(tmp)"
   ]
  },
  {
   "cell_type": "markdown",
   "id": "4072417f",
   "metadata": {},
   "source": [
    "Combine numerical and categorical"
   ]
  },
  {
   "cell_type": "code",
   "execution_count": 49,
   "id": "c108ce11",
   "metadata": {},
   "outputs": [],
   "source": [
    "from sklearn.preprocessing import scale\n",
    "tmp = scale(tmp)\n",
    "X = concatenate((tmp,one_hot),axis=1)\n",
    "y = combined[[\"status\"]].to_numpy(\"int32\")"
   ]
  },
  {
   "cell_type": "code",
   "execution_count": 70,
   "id": "33c183fe",
   "metadata": {},
   "outputs": [],
   "source": [
    "from sklearn.linear_model import LogisticRegression\n",
    "from sklearn.tree import DecisionTreeClassifier\n",
    "from sklearn.svm import SVC\n",
    "from sklearn.utils import resample\n",
    "\n",
    "# Reconfigure to work with resample() function\n",
    "df = pd.DataFrame(X)\n",
    "df[\"y\"] = y\n",
    "\n",
    "n_iterations = 1000\n",
    "n_X = X.shape[0]\n",
    "errors_decision_tree = np.zeros((n_iterations,1))\n",
    "errors_log_reg = np.zeros((n_iterations,1))\n",
    "errors_svm = np.zeros((n_iterations,1))\n",
    "\n",
    "np.random.seed(42)\n",
    "for i in range(0,n_iterations):\n",
    "    # Create Bootstrap\n",
    "    train = resample(df, replace=True, n_samples=len(df))\n",
    "    test = df[~df.index.isin(train.index)]\n",
    "    # Split\n",
    "    X_train = train.loc[:,0:28]\n",
    "    y_train = train[\"y\"]\n",
    "    X_train = test.loc[:,0:28]\n",
    "    y_train = test[\"y\"]\n",
    "    # Initialize Classifiers\n",
    "    DT = DecisionTreeClassifier()\n",
    "    LR = LogisticRegression()\n",
    "    SV = SVC()\n",
    "    # Fit + Store Errors\n",
    "    predictions = DT.fit(X_train, y_train.ravel()).predict(X_test)\n",
    "    errors_decision_tree[i] = (len(y_test) - sum(sum(predictions == y_test.T))) / len(y_test)\n",
    "    predictions = LR.fit(X_train, y_train.ravel()).predict(X_test)\n",
    "    errors_log_reg[i] =  (len(y_test) - sum(sum(predictions == y_test.T))) / len(y_test)\n",
    "    predictions = SV.fit(X_train, y_train.ravel()).predict(X_test)\n",
    "    errors_svm[i] = (len(y_test) - sum(sum(predictions == y_test.T))) / len(y_test)\n",
    "    "
   ]
  },
  {
   "cell_type": "code",
   "execution_count": 87,
   "id": "8a0eb247",
   "metadata": {},
   "outputs": [],
   "source": [
    "def plot_CI(x, CI):\n",
    "    top = CI[1]\n",
    "    bottom = CI[0]\n",
    "    middle = CI[2]\n",
    "    width = 0.1\n",
    "    left = x - width/2\n",
    "    right = x + width/2\n",
    "    plt.plot([x,x], [top, bottom], color=\"k\", lw=3)\n",
    "    plt.plot([left,right], [top,top], color=\"k\", lw=3)\n",
    "    plt.plot([left,right], [bottom,bottom], color=\"k\", lw=3)\n",
    "    plt.plot(x,middle, \"ok\", lw=3)"
   ]
  },
  {
   "cell_type": "code",
   "execution_count": 97,
   "id": "1c0754e8",
   "metadata": {},
   "outputs": [
    {
     "data": {
      "image/png": "[encoded data removed]",
      "text/plain": [
       "<Figure size 720x720 with 1 Axes>"
      ]
     },
     "metadata": {
      "needs_background": "light"
     },
     "output_type": "display_data"
    }
   ],
   "source": [
    "ci_dt = [np.percentile(errors_decision_tree, 25), np.percentile(errors_decision_tree, 75),\n",
    "        np.median(errors_decision_tree)]\n",
    "ci_lr = [np.percentile(errors_log_reg, 25), np.percentile(errors_log_reg, 75), np.median(errors_log_reg)]\n",
    "ci_svm = [np.percentile(errors_svm, 25), np.percentile(errors_svm, 75), np.median(errors_svm)]\n",
    "\n",
    "plt.figure(figsize=(10,10))\n",
    "plt.xticks([1, 2, 3], ['Decision Tree', 'Logistic Regression', 'SVM'], fontsize=14)\n",
    "plt.yticks(fontsize=14)\n",
    "plot_CI(1,ci_dt)\n",
    "plot_CI(2,ci_lr)\n",
    "plot_CI(3,ci_svm)\n",
    "plt.ylabel(\"Error\", fontsize=14)\n",
    "#plt.savefig(\"./Figures/Figure1-4.pdf\",format=\"pdf\")\n",
    "plt.show()"
   ]
  },
  {
   "cell_type": "code",
   "execution_count": 100,
   "id": "83d49ecb",
   "metadata": {
    "scrolled": false
   },
   "outputs": [
    {
     "data": {
      "image/png": "[encoded data removed]",
      "text/plain": [
       "<Figure size 720x720 with 1 Axes>"
      ]
     },
     "metadata": {
      "needs_background": "light"
     },
     "output_type": "display_data"
    }
   ],
   "source": [
    "ci_dt = [np.mean(errors_decision_tree) - np.std(errors_decision_tree), \n",
    "         np.mean(errors_decision_tree) + np.std(errors_decision_tree),\n",
    "        np.mean(errors_decision_tree)]\n",
    "ci_lr = [np.mean(errors_log_reg) - np.std(errors_log_reg), \n",
    "         np.mean(errors_log_reg) + np.std(errors_log_reg),\n",
    "         np.mean(errors_log_reg)]\n",
    "ci_svm = [np.mean(errors_svm) - np.std(errors_svm), \n",
    "         np.mean(errors_svm) + np.std(errors_svm), np.mean(errors_svm)]\n",
    "\n",
    "plt.figure(figsize=(10,10))\n",
    "plt.xticks([1, 2, 3], ['Decision Tree', 'Logistic Regression', 'SVM'], fontsize=14)\n",
    "plt.yticks(fontsize=14)\n",
    "plot_CI(1,ci_dt)\n",
    "plot_CI(2,ci_lr)\n",
    "plot_CI(3,ci_svm)\n",
    "plt.ylabel(\"Error\", fontsize=14)\n",
    "#plt.savefig(\"./Figures/Figure1-4.pdf\",format=\"pdf\")\n",
    "plt.show()"
   ]
  },
  {
   "cell_type": "code",
   "execution_count": 111,
   "id": "68ead4c8",
   "metadata": {},
   "outputs": [
    {
     "data": {
      "image/png": "[encoded data removed]",
      "text/plain": [
       "<Figure size 432x288 with 3 Axes>"
      ]
     },
     "metadata": {
      "needs_background": "light"
     },
     "output_type": "display_data"
    }
   ],
   "source": [
    "plt.subplot(131)\n",
    "plt.hist(errors_decision_tree)\n",
    "plt.title(\"DT\")\n",
    "plt.subplot(132)\n",
    "plt.hist(errors_log_reg)\n",
    "plt.title(\"LR\")\n",
    "plt.subplot(133)\n",
    "plt.hist(errors_svm)\n",
    "plt.title(\"SVM\")\n",
    "\n",
    "plt.tight_layout()\n",
    "plt.show()"
   ]
  },
  {
   "cell_type": "markdown",
   "id": "dd8436c0",
   "metadata": {},
   "source": [
    "### 6.3.2 Effect Size\n",
    "\n"
   ]
  },
  {
   "cell_type": "code",
   "execution_count": 89,
   "id": "92412691",
   "metadata": {},
   "outputs": [
    {
     "data": {
      "text/plain": [
       "[0.0, 0.16666666666666666]"
      ]
     },
     "execution_count": 89,
     "metadata": {},
     "output_type": "execute_result"
    }
   ],
   "source": [
    "ci_dt"
   ]
  },
  {
   "cell_type": "code",
   "execution_count": 78,
   "id": "494fb1e9",
   "metadata": {},
   "outputs": [
    {
     "data": {
      "text/plain": [
       "2.009648718827902"
      ]
     },
     "execution_count": 78,
     "metadata": {},
     "output_type": "execute_result"
    }
   ],
   "source": [
    "# The model metrics for this text come from the experiment in 1.3\n",
    "DT_all = np.loadtxt(\"../../Part_I/Chapter-1-Statistics-Overview/DT_all.csv\")\n",
    "SVM_all = np.loadtxt(\"../../Part_I/Chapter-1-Statistics-Overview/SVM_all.csv\")\n",
    "\n",
    "diff = np.mean(DT_all) - np.mean(SVM_all)\n",
    "var_dt = np.var(DT_all)\n",
    "var_svm = np.var(SVM_all)\n",
    "\n",
    "cohens_D = diff / (((var_dt + var_svm)/2) ** 0.5)\n",
    "b"
   ]
  },
  {
   "cell_type": "code",
   "execution_count": 64,
   "id": "07d5041e",
   "metadata": {},
   "outputs": [],
   "source": [
    "df = pd.DataFrame(X)\n",
    "df[\"y\"] = y\n",
    "train = resample(df, replace=True, n_samples=len(df))\n",
    "test = df[~df.index.isin(train.index)]\n",
    "X_train = train.loc[:,0:28]\n",
    "y_train = train[\"y\"]\n",
    "X_train = test.loc[:,0:28]\n",
    "y_train = test[\"y\"]"
   ]
  },
  {
   "cell_type": "markdown",
   "id": "a7064dea",
   "metadata": {},
   "source": [
    "## Example: Comparing Bayesian and NHST for Two Classifiers on One Domain"
   ]
  },
  {
   "cell_type": "markdown",
   "id": "5da86a71",
   "metadata": {},
   "source": [
    "#### Install the bayesian testing package"
   ]
  },
  {
   "cell_type": "code",
   "execution_count": 135,
   "id": "5784b9b1",
   "metadata": {},
   "outputs": [],
   "source": [
    "# pip install git+https://github.com/janezd/baycomp\n",
    "# OR\n",
    "# pip install baycomp "
   ]
  },
  {
   "cell_type": "markdown",
   "id": "0dc3b934",
   "metadata": {},
   "source": [
    "#### Load the UCI Breast Cancer Dataset if not done prior"
   ]
  },
  {
   "cell_type": "code",
   "execution_count": 3,
   "id": "ad940c53",
   "metadata": {},
   "outputs": [],
   "source": [
    "bc_link = \"https://archive.ics.uci.edu/ml/machine-learning-databases/breast-cancer-wisconsin/wdbc.data\"\n",
    "bc_data = pd.read_csv(bc_link, header = None)\n",
    "X = bc_data.iloc[:,2:33].to_numpy()\n",
    "y= bc_data.iloc[:,1].to_numpy()"
   ]
  },
  {
   "cell_type": "markdown",
   "id": "679df4d4",
   "metadata": {},
   "source": [
    "#### Perform 30x10 CV for Decision Tree and SVM (modify procedure from Chapter 1), not averaging by run for this example"
   ]
  },
  {
   "cell_type": "code",
   "execution_count": 76,
   "id": "28a0bc0b",
   "metadata": {},
   "outputs": [],
   "source": [
    "from numpy.random import seed, choice\n",
    "# Test size is 57\n",
    "seed(42)\n",
    "n_trials = 30\n",
    "ind_list = []\n",
    "for trial in range(n_trials):\n",
    "    ind = []\n",
    "    for i in range(10):\n",
    "        ind.append(choice(X.shape[0] - 1, 57,replace=False))\n",
    "    ind_list.append(ind)"
   ]
  },
  {
   "cell_type": "code",
   "execution_count": 86,
   "id": "2c5b759a",
   "metadata": {},
   "outputs": [],
   "source": [
    "from sklearn.tree import DecisionTreeClassifier\n",
    "from sklearn.svm import SVC\n",
    "import numpy as np\n",
    "\n",
    "n_trials = 30\n",
    "n_folds = 10\n",
    "accuracies_dt = np.zeros((1,n_trials*n_folds))\n",
    "accuracies_svm = np.zeros((1,n_trials*n_folds))\n",
    "for trial in range(n_trials):\n",
    "    accuracies_dt_ = np.zeros((1,n_folds))\n",
    "    accuracies_svm_ = np.zeros((1,n_folds))\n",
    "    for i in range(n_folds):\n",
    "        test_idx = list(ind_list[trial][i])\n",
    "        train_idx = list(set(test_idx) ^ set(range(X.shape[0])))\n",
    "        X_test = X[test_idx,:]\n",
    "        y_test = y[test_idx]\n",
    "        X_train = X[train_idx,:]\n",
    "        y_train = y[train_idx]\n",
    "        DT = DecisionTreeClassifier()\n",
    "        SV = SVC()\n",
    "        predictions = DT.fit(X_train, y_train.ravel()).predict(X_test)\n",
    "        accuracies_dt_[0,i] = sum(predictions == y_test.T)/len(y_test)\n",
    "        predictions = SV.fit(X_train, y_train.ravel()).predict(X_test)\n",
    "        accuracies_svm_[0,i] = sum(predictions == y_test.T)/len(y_test)\n",
    "        \n",
    "    accuracies_dt[0][trial*n_folds:trial*n_folds+n_folds] = accuracies_dt_\n",
    "    accuracies_svm[0][trial*n_folds:trial*n_folds+n_folds] = accuracies_svm_\n",
    "accuracies_dt = accuracies_dt[0]\n",
    "accuracies_svm = accuracies_svm[0]\n",
    "diff = accuracies_dt - accuracies_svm"
   ]
  },
  {
   "cell_type": "code",
   "execution_count": 87,
   "id": "bb13733e",
   "metadata": {
    "scrolled": true
   },
   "outputs": [
    {
     "data": {
      "text/plain": [
       "(300,)"
      ]
     },
     "execution_count": 87,
     "metadata": {},
     "output_type": "execute_result"
    }
   ],
   "source": [
    "diff.shape"
   ]
  },
  {
   "cell_type": "markdown",
   "id": "7ec5275a",
   "metadata": {},
   "source": [
    "### Bayesian Estimation Approach"
   ]
  },
  {
   "cell_type": "code",
   "execution_count": 12,
   "id": "db3b1086",
   "metadata": {},
   "outputs": [],
   "source": [
    "import baycomp as bt\n",
    "import matplotlib.pyplot as plt"
   ]
  },
  {
   "cell_type": "code",
   "execution_count": 153,
   "id": "9d961634",
   "metadata": {},
   "outputs": [
    {
     "data": {
      "image/png": "[encoded data removed]",
      "text/plain": [
       "<Figure size 432x288 with 1 Axes>"
      ]
     },
     "metadata": {
      "needs_background": "light"
     },
     "output_type": "display_data"
    }
   ],
   "source": [
    "bayes_probs, bayes_plot = bt.two_on_single(accuracies_dt, accuracies_svm, runs=n_trials, rope = 0.01, plot=True)"
   ]
  },
  {
   "cell_type": "markdown",
   "id": "287c3b55",
   "metadata": {},
   "source": [
    "### NHST Approach (Using Nadeau/Bengio's Corrected t-Test and Confidence Interval)"
   ]
  },
  {
   "cell_type": "code",
   "execution_count": 112,
   "id": "94936089",
   "metadata": {
    "scrolled": false
   },
   "outputs": [],
   "source": [
    "d_mu = np.mean(diff)\n",
    "diff_trials = np.mean(diff.reshape((30,10)), axis=0)\n",
    "t_stat = (d_mu * (float(n_trials)**0.5)) / ((1/n_trials +  len(y_test) / len(y_train))*sum((diff_trials - d_mu)**2))**0.5"
   ]
  },
  {
   "cell_type": "code",
   "execution_count": 147,
   "id": "c3ec9ede",
   "metadata": {
    "scrolled": true
   },
   "outputs": [
    {
     "data": {
      "image/png": "[encoded data removed]",
      "text/plain": [
       "<Figure size 720x360 with 1 Axes>"
      ]
     },
     "metadata": {
      "needs_background": "light"
     },
     "output_type": "display_data"
    }
   ],
   "source": [
    "from scipy.stats import t\n",
    "df = n_trials-1\n",
    "x = np.linspace(-5,5,1000)\n",
    "plt.figure(figsize=(10,5))\n",
    "plt.plot(x, t.pdf(x,df), color=\"k\")\n",
    "plt.fill_between(x, t.pdf(x,df), color=\"k\",alpha =0.2)\n",
    "plt.axvline(t.ppf(q=.025, df=df), color = \"k\", lw = 3)\n",
    "plt.axvline(t.ppf(q=.975, df=df), color = \"k\", lw=3)\n",
    "plt.axvline(t_stat, color = \"k\", ls = \"--\", lw = 3)\n",
    "plt.show()"
   ]
  },
  {
   "cell_type": "markdown",
   "id": "2b83996b",
   "metadata": {},
   "source": [
    "#### Comments on the Differences in Approaches"
   ]
  },
  {
   "cell_type": "markdown",
   "id": "af313972",
   "metadata": {},
   "source": [
    "The Bayesian Estimation approach (copied from Benavoli et al. 2017, using the same default settings for the priors) generates a posterior distribution of the difference in accuracy between the two classifiers.  The ROPE (Region of Practical Equivalence) is set at 1%, meaning that the performance difference is considered practically equivalent when its absolute value is less than 0.01.  The ROPE divides the pdf into three sections, and the areas of these sections-- from left to right-- correspond to \n",
    "\n",
    "1. P(A_dt < A_svm): the probability that the accuracy of the Decision Tree is **less than** that of the SVM\n",
    "2. P(A_dt = A_svm): the probability that the accuracy of the Decision Tree is **equal to** that of the SVM\n",
    "3. P(A_dt > A_svm): the probability that the accuracy of the Decision Tree is **more than** that of the SVM\n",
    "\n",
    "\n",
    "The NHST plot, though similar in appearance to the Bayesian plot, communicates different information.  The probability density function shown is the t distribution for 29 degrees of freedom.  The null hypothesis in this case is that the true mean difference in accuracy is zero.  The t values between the solid vertical lines correspond to the 95% confidence interval within which the null cannot be rejected.  The dashed line is the value of the the corrected t-statistic (Nadeau and Bengio 2003) for this data.\n",
    "\n",
    "(Benavoli et al. 2017) stresses that a weakness of NHST is its inability to make conclusions about the null hypothesis.  The only two outcomes of a null hypothesis significance test are failing to reject the null and rejecting the null.  However, the latter case does not allow you to conclude that the null is true nor estimate the probability that it is true.  An advantage of Bayesian estimation is the ability to assign a probability to the null hypothesis.  While Bayesian estimation is conceptually attractive for this reason among others, it depends heavily on the choice of the prior distribution.  The best prior distribution may be different for different combinations of domains and classifiers."
   ]
  },
  {
   "cell_type": "code",
   "execution_count": null,
   "id": "9988972c",
   "metadata": {},
   "outputs": [],
   "source": []
  }
 ],
 "metadata": {
  "kernelspec": {
   "display_name": "Python 3 (ipykernel)",
   "language": "python",
   "name": "python3"
  },
  "language_info": {
   "codemirror_mode": {
    "name": "ipython",
    "version": 3
   },
   "file_extension": ".py",
   "mimetype": "text/x-python",
   "name": "python",
   "nbconvert_exporter": "python",
   "pygments_lexer": "ipython3",
   "version": "3.9.7"
  }
 },
 "nbformat": 4,
 "nbformat_minor": 5
}

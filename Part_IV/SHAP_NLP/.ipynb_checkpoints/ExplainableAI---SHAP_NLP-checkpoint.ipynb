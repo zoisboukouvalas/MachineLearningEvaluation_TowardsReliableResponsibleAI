{
 "cells": [
  {
   "cell_type": "markdown",
   "id": "ff93628a",
   "metadata": {},
   "source": [
    "# 11.2.2 Interpretability methods to explain black box models\n",
    "\n",
    "## SHapley Additive exPlanations (SHAP)\n",
    "\n",
    "More information please visit https://shap.readthedocs.io/en/latest/"
   ]
  },
  {
   "cell_type": "markdown",
   "id": "2817e619",
   "metadata": {},
   "source": [
    "#### Load Packages"
   ]
  },
  {
   "cell_type": "code",
   "execution_count": 1,
   "id": "b0125602",
   "metadata": {},
   "outputs": [],
   "source": [
    "import numpy as np\n",
    "import pandas as pd #to work with csv files\n",
    "\n",
    "from nltk import word_tokenize, pos_tag\n",
    "from nltk.stem import WordNetLemmatizer\n",
    "from nltk.corpus import wordnet\n",
    "import nltk\n",
    "\n",
    "#matplotlib imports are used to plot confusion matrices for the classifiers\n",
    "import matplotlib as mpl \n",
    "import matplotlib.cm as cm \n",
    "import matplotlib.pyplot as plt \n",
    "\n",
    "#import feature extraction methods from sklearn\n",
    "from sklearn.feature_extraction.text import CountVectorizer\n",
    "from sklearn.feature_extraction import _stop_words\n",
    "#pre-processing of text\n",
    "import string\n",
    "import re\n",
    "from gensim.models import Word2Vec, KeyedVectors\n",
    "import gensim\n",
    "import gensim.downloader as gensim_api\n",
    "#import classifiers from sklearn\n",
    "from sklearn.naive_bayes import MultinomialNB\n",
    "from sklearn.linear_model import LogisticRegression\n",
    "from sklearn.svm import LinearSVC\n",
    "\n",
    "#import different metrics to evaluate the classifiers\n",
    "from sklearn.metrics import accuracy_score\n",
    "from sklearn.model_selection import train_test_split\n",
    "from sklearn.metrics import confusion_matrix \n",
    "from sklearn import metrics\n",
    "\n",
    "#import time function from time module to track the training duration\n",
    "from time import time\n",
    "from collections import OrderedDict\n",
    "\n",
    "import seaborn as sns\n",
    "from sklearn.pipeline import make_pipeline\n",
    "from lime.lime_text import LimeTextExplainer\n",
    "from sklearn.linear_model import LogisticRegression\n",
    "from sklearn.feature_extraction.text import TfidfVectorizer\n",
    "from collections import OrderedDict"
   ]
  },
  {
   "cell_type": "markdown",
   "id": "872ce81d",
   "metadata": {},
   "source": [
    "#### Import IMDB dataset"
   ]
  },
  {
   "cell_type": "code",
   "execution_count": 2,
   "id": "a05ac5e4",
   "metadata": {},
   "outputs": [
    {
     "data": {
      "text/html": [
       "<div>\n",
       "<style scoped>\n",
       "    .dataframe tbody tr th:only-of-type {\n",
       "        vertical-align: middle;\n",
       "    }\n",
       "\n",
       "    .dataframe tbody tr th {\n",
       "        vertical-align: top;\n",
       "    }\n",
       "\n",
       "    .dataframe thead th {\n",
       "        text-align: right;\n",
       "    }\n",
       "</style>\n",
       "<table border=\"1\" class=\"dataframe\">\n",
       "  <thead>\n",
       "    <tr style=\"text-align: right;\">\n",
       "      <th></th>\n",
       "      <th>review</th>\n",
       "      <th>sentiment</th>\n",
       "    </tr>\n",
       "  </thead>\n",
       "  <tbody>\n",
       "    <tr>\n",
       "      <th>0</th>\n",
       "      <td>The movie was a true masterpiece, captivating ...</td>\n",
       "      <td>positive</td>\n",
       "    </tr>\n",
       "    <tr>\n",
       "      <th>1</th>\n",
       "      <td>One of the other reviewers has mentioned that ...</td>\n",
       "      <td>positive</td>\n",
       "    </tr>\n",
       "    <tr>\n",
       "      <th>2</th>\n",
       "      <td>A wonderful little production. &lt;br /&gt;&lt;br /&gt;The...</td>\n",
       "      <td>positive</td>\n",
       "    </tr>\n",
       "    <tr>\n",
       "      <th>3</th>\n",
       "      <td>I thought this was a wonderful way to spend ti...</td>\n",
       "      <td>positive</td>\n",
       "    </tr>\n",
       "    <tr>\n",
       "      <th>4</th>\n",
       "      <td>Basically there's a family where a little boy ...</td>\n",
       "      <td>negative</td>\n",
       "    </tr>\n",
       "  </tbody>\n",
       "</table>\n",
       "</div>"
      ],
      "text/plain": [
       "                                              review sentiment\n",
       "0  The movie was a true masterpiece, captivating ...  positive\n",
       "1  One of the other reviewers has mentioned that ...  positive\n",
       "2  A wonderful little production. <br /><br />The...  positive\n",
       "3  I thought this was a wonderful way to spend ti...  positive\n",
       "4  Basically there's a family where a little boy ...  negative"
      ]
     },
     "execution_count": 2,
     "metadata": {},
     "output_type": "execute_result"
    }
   ],
   "source": [
    "imdb = pd.read_csv('IMDB_Dataset.csv')\n",
    "imdb.head()"
   ]
  },
  {
   "cell_type": "markdown",
   "id": "c2c95827",
   "metadata": {},
   "source": [
    "#### Define a function that performs basic text pre-processing"
   ]
  },
  {
   "cell_type": "code",
   "execution_count": 3,
   "id": "8800ddf6",
   "metadata": {},
   "outputs": [],
   "source": [
    "import re\n",
    "from nltk.tokenize import word_tokenize\n",
    "from nltk.stem import WordNetLemmatizer\n",
    "\n",
    "def clean_text(str_list, lemmatize=False):\n",
    "    clean_list = []\n",
    "    \n",
    "    for text in str_list:\n",
    "        # Remove HTML tags\n",
    "        text = re.sub(r'<.*?>', '', text)\n",
    "        words = word_tokenize(text)\n",
    "        clean_words = []\n",
    "        \n",
    "        for word in words:            \n",
    "            if (len(word) > 1) and (re.match(r'^\\w+$', word)):\n",
    "                if lemmatize:\n",
    "                    lemmatizer = WordNetLemmatizer()\n",
    "                    word = lemmatizer.lemmatize(word)\n",
    "                clean_words.append(word)\n",
    "        clean_text = ' '.join(clean_words)\n",
    "        clean_list.append(clean_text)\n",
    "    \n",
    "    return clean_list"
   ]
  },
  {
   "cell_type": "code",
   "execution_count": 4,
   "id": "3df362a7",
   "metadata": {},
   "outputs": [
    {
     "data": {
      "text/html": [
       "<div>\n",
       "<style scoped>\n",
       "    .dataframe tbody tr th:only-of-type {\n",
       "        vertical-align: middle;\n",
       "    }\n",
       "\n",
       "    .dataframe tbody tr th {\n",
       "        vertical-align: top;\n",
       "    }\n",
       "\n",
       "    .dataframe thead th {\n",
       "        text-align: right;\n",
       "    }\n",
       "</style>\n",
       "<table border=\"1\" class=\"dataframe\">\n",
       "  <thead>\n",
       "    <tr style=\"text-align: right;\">\n",
       "      <th></th>\n",
       "      <th>review</th>\n",
       "      <th>sentiment</th>\n",
       "      <th>clean_review</th>\n",
       "    </tr>\n",
       "  </thead>\n",
       "  <tbody>\n",
       "    <tr>\n",
       "      <th>0</th>\n",
       "      <td>The movie was a true masterpiece, captivating ...</td>\n",
       "      <td>positive</td>\n",
       "      <td>The movie was true masterpiece captivating fro...</td>\n",
       "    </tr>\n",
       "    <tr>\n",
       "      <th>1</th>\n",
       "      <td>One of the other reviewers has mentioned that ...</td>\n",
       "      <td>positive</td>\n",
       "      <td>One of the other reviewers has mentioned that ...</td>\n",
       "    </tr>\n",
       "    <tr>\n",
       "      <th>2</th>\n",
       "      <td>A wonderful little production. &lt;br /&gt;&lt;br /&gt;The...</td>\n",
       "      <td>positive</td>\n",
       "      <td>wonderful little production The filming techni...</td>\n",
       "    </tr>\n",
       "    <tr>\n",
       "      <th>3</th>\n",
       "      <td>I thought this was a wonderful way to spend ti...</td>\n",
       "      <td>positive</td>\n",
       "      <td>thought this was wonderful way to spend time o...</td>\n",
       "    </tr>\n",
       "    <tr>\n",
       "      <th>4</th>\n",
       "      <td>Basically there's a family where a little boy ...</td>\n",
       "      <td>negative</td>\n",
       "      <td>Basically there family where little boy Jake t...</td>\n",
       "    </tr>\n",
       "  </tbody>\n",
       "</table>\n",
       "</div>"
      ],
      "text/plain": [
       "                                              review sentiment   \n",
       "0  The movie was a true masterpiece, captivating ...  positive  \\\n",
       "1  One of the other reviewers has mentioned that ...  positive   \n",
       "2  A wonderful little production. <br /><br />The...  positive   \n",
       "3  I thought this was a wonderful way to spend ti...  positive   \n",
       "4  Basically there's a family where a little boy ...  negative   \n",
       "\n",
       "                                        clean_review  \n",
       "0  The movie was true masterpiece captivating fro...  \n",
       "1  One of the other reviewers has mentioned that ...  \n",
       "2  wonderful little production The filming techni...  \n",
       "3  thought this was wonderful way to spend time o...  \n",
       "4  Basically there family where little boy Jake t...  "
      ]
     },
     "execution_count": 4,
     "metadata": {},
     "output_type": "execute_result"
    }
   ],
   "source": [
    "# run on all reviews\n",
    "imdb['clean_review'] = clean_text(imdb['review'])\n",
    "imdb.head()"
   ]
  },
  {
   "cell_type": "code",
   "execution_count": 5,
   "id": "281975a3",
   "metadata": {},
   "outputs": [
    {
     "data": {
      "text/plain": [
       "sentiment\n",
       "positive    25001\n",
       "negative    25000\n",
       "Name: count, dtype: int64"
      ]
     },
     "execution_count": 5,
     "metadata": {},
     "output_type": "execute_result"
    }
   ],
   "source": [
    "imdb['sentiment'].value_counts()"
   ]
  },
  {
   "cell_type": "code",
   "execution_count": 6,
   "id": "9ee2e59a",
   "metadata": {},
   "outputs": [
    {
     "data": {
      "text/plain": [
       "0        1\n",
       "1        1\n",
       "2        1\n",
       "3        1\n",
       "4        0\n",
       "        ..\n",
       "49996    1\n",
       "49997    0\n",
       "49998    0\n",
       "49999    0\n",
       "50000    0\n",
       "Name: sentiment, Length: 50001, dtype: int64"
      ]
     },
     "execution_count": 6,
     "metadata": {},
     "output_type": "execute_result"
    }
   ],
   "source": [
    "# Replace 'positive' by 1 and 'negative' by 0\n",
    "imdb['sentiment'] = imdb['sentiment'].map(lambda x : 1 if x == 'positive' else 0)\n",
    "imdb['sentiment']"
   ]
  },
  {
   "cell_type": "code",
   "execution_count": 7,
   "id": "ac330f4b",
   "metadata": {},
   "outputs": [
    {
     "data": {
      "text/plain": [
       "sentiment\n",
       "1    25001\n",
       "0    25000\n",
       "Name: count, dtype: int64"
      ]
     },
     "execution_count": 7,
     "metadata": {},
     "output_type": "execute_result"
    }
   ],
   "source": [
    "imdb['sentiment'].value_counts()"
   ]
  },
  {
   "cell_type": "markdown",
   "id": "e5ee6122",
   "metadata": {},
   "source": [
    "#### Prepare the data matrix ${\\bf X}$ as well as the label vector $y$"
   ]
  },
  {
   "cell_type": "code",
   "execution_count": 8,
   "id": "372a3bbe",
   "metadata": {},
   "outputs": [
    {
     "name": "stdout",
     "output_type": "stream",
     "text": [
      "(50001,) (50001,)\n"
     ]
    }
   ],
   "source": [
    "X = imdb['clean_review'] #the column text contains textual data to extract features from\n",
    "y = imdb['sentiment'] #this is the column we are learning to predict. \n",
    "\n",
    "print(X.shape, y.shape)"
   ]
  },
  {
   "cell_type": "markdown",
   "id": "4ad4a372",
   "metadata": {},
   "source": [
    "#### Train a classifier. Here we select logistic regression"
   ]
  },
  {
   "cell_type": "code",
   "execution_count": null,
   "id": "52853a3a",
   "metadata": {},
   "outputs": [],
   "source": [
    "#Train a classifier\n",
    "vect = TfidfVectorizer(lowercase = True,\n",
    "                        stop_words = 'english',\n",
    "                        ngram_range = (1,1)) \n",
    "\n",
    "X_dtm = vect.fit_transform(X)\n",
    "\n",
    "classifier = LogisticRegression(penalty=\"l2\", C=0.1) #instantiate a logistic regression model\n",
    "classifier.fit(X_dtm, y) #fit the model with training data\n",
    "\n",
    "# Check the training accuracy\n",
    "y_pred_class = classifier.predict(X_dtm)\n",
    "\n",
    "#calculate evaluation measures:\n",
    "print(\"Accuracy: \", accuracy_score(y, y_pred_class))"
   ]
  },
  {
   "cell_type": "markdown",
   "id": "c9c0d147",
   "metadata": {},
   "source": [
    "#### Introduce a testing positive sentiment review "
   ]
  },
  {
   "cell_type": "code",
   "execution_count": null,
   "id": "cf8fde29",
   "metadata": {},
   "outputs": [],
   "source": [
    "mystring = 'The movie was a true masterpiece, captivating from start to finish with its brilliant storytelling, exceptional performances, and stunning cinematography that left me in awe.'\n",
    "print(mystring)\n",
    "true_class = 1"
   ]
  },
  {
   "cell_type": "markdown",
   "id": "76818ccf",
   "metadata": {},
   "source": [
    "#### Here is where we use SHAP "
   ]
  },
  {
   "cell_type": "code",
   "execution_count": null,
   "id": "fbc0ddda",
   "metadata": {},
   "outputs": [],
   "source": [
    "# Import SHAP\n",
    "import shap\n",
    "\n",
    "# Create a SHAP explainer for the classifier\n",
    "explainer = shap.Explainer(classifier, X_dtm)"
   ]
  },
  {
   "cell_type": "code",
   "execution_count": null,
   "id": "53a4cee3",
   "metadata": {},
   "outputs": [],
   "source": [
    "# Transform the text you want to explain into a format suitable for the model\n",
    "mystring_encoded = vect.transform([mystring])"
   ]
  }
 ],
 "metadata": {
  "kernelspec": {
   "display_name": "Python 3 (ipykernel)",
   "language": "python",
   "name": "python3"
  },
  "language_info": {
   "codemirror_mode": {
    "name": "ipython",
    "version": 3
   },
   "file_extension": ".py",
   "mimetype": "text/x-python",
   "name": "python",
   "nbconvert_exporter": "python",
   "pygments_lexer": "ipython3",
   "version": "3.9.11"
  }
 },
 "nbformat": 4,
 "nbformat_minor": 5
}

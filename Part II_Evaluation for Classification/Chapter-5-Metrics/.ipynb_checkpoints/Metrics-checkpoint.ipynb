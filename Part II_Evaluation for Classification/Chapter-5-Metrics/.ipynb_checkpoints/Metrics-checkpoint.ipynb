{
 "cells": [
  {
   "cell_type": "markdown",
   "id": "586bd5b6",
   "metadata": {},
   "source": [
    "# Chapter 5: Metrics"
   ]
  },
  {
   "cell_type": "code",
   "execution_count": 19,
   "id": "e9bca459",
   "metadata": {},
   "outputs": [
    {
     "name": "stdout",
     "output_type": "stream",
     "text": [
      "Python version:      3.9.7\n",
      "sklearn version:     1.1.2\n",
      "numpy version:       1.20.3\n",
      "pandas version:      1.3.4\n",
      "sklearn version:     1.1.2\n",
      "XGBoost version:     1.7.1\n"
     ]
    }
   ],
   "source": [
    "import sklearn\n",
    "import numpy as np\n",
    "import matplotlib.pyplot as plt\n",
    "import pandas as pd\n",
    "import sklearn\n",
    "from platform import python_version\n",
    "import xgboost as xgb\n",
    "\n",
    "print(\"Python version:     \", python_version())\n",
    "print(\"sklearn version:    \", sklearn.__version__)\n",
    "print(\"numpy version:      \", np.__version__)\n",
    "print(\"pandas version:     \", pd.__version__)\n",
    "print(\"sklearn version:    \", sklearn.__version__)\n",
    "print(\"XGBoost version:    \", xgb.__version__)"
   ]
  },
  {
   "cell_type": "markdown",
   "id": "c1e1de51",
   "metadata": {},
   "source": [
    "## 5.3 Illustrative Example"
   ]
  },
  {
   "cell_type": "markdown",
   "id": "01f741bb",
   "metadata": {},
   "source": [
    "### Table 5.1: Breast Cancer Dataset"
   ]
  },
  {
   "cell_type": "code",
   "execution_count": 56,
   "id": "ddc00430",
   "metadata": {},
   "outputs": [],
   "source": [
    "# Load UCI BreastCancer Dataset\n",
    "bc_link = \"https://archive.ics.uci.edu/ml/machine-learning-databases/breast-cancer-wisconsin/wdbc.data\"\n",
    "bc_data = pd.read_csv(bc_link, header = None)\n",
    "X = bc_data.iloc[:,2:33].to_numpy()\n",
    "\n",
    "y= bc_data.iloc[:,1].to_numpy()"
   ]
  },
  {
   "cell_type": "code",
   "execution_count": 57,
   "id": "4c19dbc7",
   "metadata": {},
   "outputs": [
    {
     "name": "stdout",
     "output_type": "stream",
     "text": [
      "X Shape:  (569, 30) y Shape:  (569,)\n"
     ]
    }
   ],
   "source": [
    "print(\"X Shape: \", X.shape, \"y Shape: \", y.shape)"
   ]
  },
  {
   "cell_type": "code",
   "execution_count": 58,
   "id": "3c2cca4d",
   "metadata": {},
   "outputs": [],
   "source": [
    "from sklearn.model_selection import train_test_split\n",
    "\n",
    "# Split data into training and testing sets\n",
    "X_train, X_test, y_train, y_test = train_test_split(X, y, test_size=0.20)"
   ]
  },
  {
   "cell_type": "markdown",
   "id": "34a038a4",
   "metadata": {},
   "source": [
    "Train models:"
   ]
  },
  {
   "cell_type": "code",
   "execution_count": 103,
   "id": "ba0b5880",
   "metadata": {},
   "outputs": [],
   "source": [
    "np.random.seed(42)\n",
    "# Naive Bayes\n",
    "from sklearn.naive_bayes import GaussianNB\n",
    "NBclf = GaussianNB()\n",
    "NBclf.fit(X_train, y_train)\n",
    "nb_preds = NBclf.predict(X_test)\n",
    "\n",
    "# SVM\n",
    "from sklearn.svm import SVC\n",
    "SVMclf = SVC()\n",
    "SVMclf.fit(X_train, y_train)\n",
    "svm_preds = SVMclf.predict(X_test)\n",
    "\n",
    "# Decision Tree\n",
    "from sklearn.tree import DecisionTreeClassifier\n",
    "DTclf = DecisionTreeClassifier()\n",
    "DTclf.fit(X_train, y_train)\n",
    "dt_preds = DTclf.predict(X_test)\n",
    "\n",
    "# RandomForest\n",
    "from sklearn.ensemble import RandomForestClassifier\n",
    "RFclf = RandomForestClassifier()\n",
    "RFclf.fit(X_train, y_train)\n",
    "rf_preds = RFclf.predict(X_test)\n",
    "\n",
    "# XGBoost\n",
    "XGBclf = xgb.XGBClassifier()\n",
    "XGBclf.fit(X_train, y_train==\"M\")\n",
    "xgb_preds = XGBclf.predict(X_test)\n",
    "\n",
    "# Bagging\n",
    "from sklearn.ensemble import BaggingClassifier\n",
    "BAGclf = BaggingClassifier()\n",
    "BAGclf.fit(X_train, y_train)\n",
    "bag_preds = BAGclf.predict(X_test)"
   ]
  },
  {
   "cell_type": "markdown",
   "id": "0b3fc41b",
   "metadata": {},
   "source": [
    "Get metrics:"
   ]
  },
  {
   "cell_type": "code",
   "execution_count": 60,
   "id": "9ac3d5ad",
   "metadata": {},
   "outputs": [],
   "source": [
    "# Import/Define Functions\n",
    "from sklearn.metrics import accuracy_score, f1_score, precision_score, recall_score, roc_auc_score, mean_squared_error\n",
    "def tpr(y_true, y_pred, pos_label):\n",
    "    tp = sum((y_pred == pos_label) & (y_true == pos_label))\n",
    "    fn = sum((y_pred != pos_label)& (y_true == pos_label))\n",
    "    return(tp/(tp+fn))\n",
    "def fpr(y_true, y_pred, pos_label):\n",
    "    tn = sum((y_pred != pos_label) & (y_true != pos_label))\n",
    "    fp = sum((y_pred == pos_label)& (y_true != pos_label))\n",
    "    return(fp/(fp+tn))"
   ]
  },
  {
   "cell_type": "code",
   "execution_count": 94,
   "id": "4cab90a0",
   "metadata": {},
   "outputs": [],
   "source": [
    "#Naive Bayes\n",
    "nb_metrics = [accuracy_score(y_test, nb_preds), \n",
    "              mean_squared_error((y_test==\"M\").astype(int), (nb_preds==\"M\").astype(int), squared=True),\n",
    "              tpr(y_test, nb_preds, \"M\"), \n",
    "              fpr(y_test, nb_preds, \"M\"),\n",
    "              precision_score(y_test, nb_preds, pos_label =\"M\"),\n",
    "              recall_score(y_test, nb_preds, pos_label =\"M\"),\n",
    "              f1_score(y_test, nb_preds, pos_label =\"M\"),\n",
    "              roc_auc_score(y_test, NBclf.predict_proba(X_test)[:,1])]\n"
   ]
  },
  {
   "cell_type": "code",
   "execution_count": 97,
   "id": "84e8f749",
   "metadata": {
    "scrolled": true
   },
   "outputs": [],
   "source": [
    "# SVM\n",
    "svm_metrics = [accuracy_score(y_test, svm_preds), \n",
    "               mean_squared_error((y_test==\"M\").astype(int), (svm_preds==\"M\").astype(int), squared=True),\n",
    "               tpr(y_test, svm_preds, \"M\"), \n",
    "               fpr(y_test, svm_preds, \"M\"),\n",
    "               precision_score(y_test, svm_preds, pos_label =\"M\"), \n",
    "               recall_score(y_test, svm_preds, pos_label =\"M\"),\n",
    "               f1_score(y_test, svm_preds, pos_label =\"M\"),\n",
    "               roc_auc_score(y_test, SVMclf.decision_function(X_test))]"
   ]
  },
  {
   "cell_type": "code",
   "execution_count": 99,
   "id": "1ea6e19a",
   "metadata": {},
   "outputs": [],
   "source": [
    "# Decision Tree\n",
    "dt_metrics = [accuracy_score(y_test, dt_preds), \n",
    "               mean_squared_error((y_test==\"M\").astype(int), (dt_preds==\"M\").astype(int), squared=True),\n",
    "               tpr(y_test, dt_preds, \"M\"), \n",
    "               fpr(y_test, dt_preds, \"M\"),\n",
    "               precision_score(y_test, dt_preds, pos_label =\"M\"), \n",
    "               recall_score(y_test, dt_preds, pos_label =\"M\"),\n",
    "               f1_score(y_test, dt_preds, pos_label =\"M\"),\n",
    "               roc_auc_score(y_test, DTclf.predict_proba(X_test)[:,1])]"
   ]
  },
  {
   "cell_type": "code",
   "execution_count": 100,
   "id": "75f78b0b",
   "metadata": {},
   "outputs": [],
   "source": [
    "# Random Forest\n",
    "rf_metrics = [accuracy_score(y_test, rf_preds), \n",
    "               mean_squared_error((y_test==\"M\").astype(int), (rf_preds==\"M\").astype(int), squared=True),\n",
    "               tpr(y_test, rf_preds, \"M\"), \n",
    "               fpr(y_test, rf_preds, \"M\"),\n",
    "               precision_score(y_test, rf_preds, pos_label =\"M\"), \n",
    "               recall_score(y_test, rf_preds, pos_label =\"M\"),\n",
    "               f1_score(y_test, rf_preds, pos_label =\"M\"),\n",
    "               roc_auc_score(y_test, RFclf.predict_proba(X_test)[:,1])]"
   ]
  },
  {
   "cell_type": "code",
   "execution_count": 101,
   "id": "f3f5401d",
   "metadata": {
    "scrolled": true
   },
   "outputs": [],
   "source": [
    "# XGBoost\n",
    "xgb_metrics = [accuracy_score(y_test==\"M\", xgb_preds), \n",
    "               mean_squared_error((y_test==\"M\").astype(int), (xgb_preds).astype(int), squared=True),\n",
    "               tpr(y_test==\"M\", xgb_preds, 1), \n",
    "               fpr(y_test==\"M\", xgb_preds, 1),\n",
    "               precision_score(y_test==\"M\", xgb_preds, pos_label =1), \n",
    "               recall_score(y_test==\"M\", xgb_preds, pos_label =1),\n",
    "               f1_score(y_test==\"M\", xgb_preds, pos_label =1),\n",
    "               roc_auc_score(y_test, XGBclf.predict_proba(X_test)[:,1])]"
   ]
  },
  {
   "cell_type": "code",
   "execution_count": 104,
   "id": "234af831",
   "metadata": {},
   "outputs": [],
   "source": [
    "# Bagging\n",
    "bag_metrics = [accuracy_score(y_test, bag_preds), \n",
    "              mean_squared_error((y_test==\"M\").astype(int), (bag_preds==\"M\").astype(int), squared=True),\n",
    "              tpr(y_test, bag_preds, \"M\"), \n",
    "              fpr(y_test, bag_preds, \"M\"),\n",
    "              precision_score(y_test, bag_preds, pos_label =\"M\"),\n",
    "              recall_score(y_test, bag_preds, pos_label =\"M\"),\n",
    "              f1_score(y_test, bag_preds, pos_label =\"M\"),\n",
    "              roc_auc_score(y_test, BAGclf.predict_proba(X_test)[:,1])]"
   ]
  },
  {
   "cell_type": "markdown",
   "id": "e46deeb0",
   "metadata": {},
   "source": [
    "Combine results:"
   ]
  },
  {
   "cell_type": "code",
   "execution_count": 105,
   "id": "d799a090",
   "metadata": {},
   "outputs": [
    {
     "data": {
      "text/html": [
       "<div>\n",
       "<style scoped>\n",
       "    .dataframe tbody tr th:only-of-type {\n",
       "        vertical-align: middle;\n",
       "    }\n",
       "\n",
       "    .dataframe tbody tr th {\n",
       "        vertical-align: top;\n",
       "    }\n",
       "\n",
       "    .dataframe thead th {\n",
       "        text-align: right;\n",
       "    }\n",
       "</style>\n",
       "<table border=\"1\" class=\"dataframe\">\n",
       "  <thead>\n",
       "    <tr style=\"text-align: right;\">\n",
       "      <th></th>\n",
       "      <th>Model</th>\n",
       "      <th>Acc</th>\n",
       "      <th>RMSE</th>\n",
       "      <th>TPR</th>\n",
       "      <th>FPR</th>\n",
       "      <th>Prec</th>\n",
       "      <th>Rec</th>\n",
       "      <th>F</th>\n",
       "      <th>AUC</th>\n",
       "    </tr>\n",
       "  </thead>\n",
       "  <tbody>\n",
       "    <tr>\n",
       "      <th>0</th>\n",
       "      <td>NB</td>\n",
       "      <td>0.938596</td>\n",
       "      <td>0.061404</td>\n",
       "      <td>0.869565</td>\n",
       "      <td>0.014706</td>\n",
       "      <td>0.975610</td>\n",
       "      <td>0.869565</td>\n",
       "      <td>0.919540</td>\n",
       "      <td>0.988811</td>\n",
       "    </tr>\n",
       "    <tr>\n",
       "      <th>1</th>\n",
       "      <td>SVM</td>\n",
       "      <td>0.912281</td>\n",
       "      <td>0.087719</td>\n",
       "      <td>0.847826</td>\n",
       "      <td>0.044118</td>\n",
       "      <td>0.928571</td>\n",
       "      <td>0.847826</td>\n",
       "      <td>0.886364</td>\n",
       "      <td>0.973785</td>\n",
       "    </tr>\n",
       "    <tr>\n",
       "      <th>2</th>\n",
       "      <td>Decision Tree</td>\n",
       "      <td>0.938596</td>\n",
       "      <td>0.061404</td>\n",
       "      <td>0.913043</td>\n",
       "      <td>0.044118</td>\n",
       "      <td>0.933333</td>\n",
       "      <td>0.913043</td>\n",
       "      <td>0.923077</td>\n",
       "      <td>0.934463</td>\n",
       "    </tr>\n",
       "    <tr>\n",
       "      <th>3</th>\n",
       "      <td>Random Forest</td>\n",
       "      <td>0.938596</td>\n",
       "      <td>0.061404</td>\n",
       "      <td>0.913043</td>\n",
       "      <td>0.044118</td>\n",
       "      <td>0.933333</td>\n",
       "      <td>0.913043</td>\n",
       "      <td>0.923077</td>\n",
       "      <td>0.992647</td>\n",
       "    </tr>\n",
       "    <tr>\n",
       "      <th>4</th>\n",
       "      <td>XGBoost</td>\n",
       "      <td>0.982456</td>\n",
       "      <td>0.017544</td>\n",
       "      <td>0.956522</td>\n",
       "      <td>0.000000</td>\n",
       "      <td>1.000000</td>\n",
       "      <td>0.956522</td>\n",
       "      <td>0.977778</td>\n",
       "      <td>0.997442</td>\n",
       "    </tr>\n",
       "    <tr>\n",
       "      <th>5</th>\n",
       "      <td>Bagging</td>\n",
       "      <td>0.921053</td>\n",
       "      <td>0.078947</td>\n",
       "      <td>0.804348</td>\n",
       "      <td>0.000000</td>\n",
       "      <td>1.000000</td>\n",
       "      <td>0.804348</td>\n",
       "      <td>0.891566</td>\n",
       "      <td>0.983056</td>\n",
       "    </tr>\n",
       "  </tbody>\n",
       "</table>\n",
       "</div>"
      ],
      "text/plain": [
       "           Model       Acc      RMSE       TPR       FPR      Prec       Rec  \\\n",
       "0             NB  0.938596  0.061404  0.869565  0.014706  0.975610  0.869565   \n",
       "1            SVM  0.912281  0.087719  0.847826  0.044118  0.928571  0.847826   \n",
       "2  Decision Tree  0.938596  0.061404  0.913043  0.044118  0.933333  0.913043   \n",
       "3  Random Forest  0.938596  0.061404  0.913043  0.044118  0.933333  0.913043   \n",
       "4        XGBoost  0.982456  0.017544  0.956522  0.000000  1.000000  0.956522   \n",
       "5        Bagging  0.921053  0.078947  0.804348  0.000000  1.000000  0.804348   \n",
       "\n",
       "          F       AUC  \n",
       "0  0.919540  0.988811  \n",
       "1  0.886364  0.973785  \n",
       "2  0.923077  0.934463  \n",
       "3  0.923077  0.992647  \n",
       "4  0.977778  0.997442  \n",
       "5  0.891566  0.983056  "
      ]
     },
     "execution_count": 105,
     "metadata": {},
     "output_type": "execute_result"
    }
   ],
   "source": [
    "tbl_4_1 = pd.DataFrame(columns = [\"Model\", \"Acc\", \"RMSE\", \"TPR\", \"FPR\", \"Prec\", \"Rec\", \"F\", \"AUC\"])\n",
    "tbl_4_1.loc[len(tbl_4_1.index)] = [\"NB\"] + nb_metrics\n",
    "tbl_4_1.loc[len(tbl_4_1.index)] = [\"SVM\"] + svm_metrics\n",
    "tbl_4_1.loc[len(tbl_4_1.index)] = [\"Decision Tree\"] + dt_metrics\n",
    "tbl_4_1.loc[len(tbl_4_1.index)] = [\"Random Forest\"] + rf_metrics\n",
    "tbl_4_1.loc[len(tbl_4_1.index)] = [\"XGBoost\"] + xgb_metrics\n",
    "tbl_4_1.loc[len(tbl_4_1.index)] = [\"Bagging\"] + bag_metrics\n",
    "\n",
    "\n",
    "tbl_4_1"
   ]
  },
  {
   "cell_type": "markdown",
   "id": "8d552206",
   "metadata": {},
   "source": [
    "### Table 5.2: UCI Liver"
   ]
  },
  {
   "cell_type": "code",
   "execution_count": 108,
   "id": "51032ac9",
   "metadata": {},
   "outputs": [],
   "source": [
    "liv_link = \"https://archive.ics.uci.edu/ml/machine-learning-databases/liver-disorders/bupa.data\"\n",
    "liv_data = pd.read_csv(liv_link, header = None)\n",
    "X_1 = liv_data.iloc[:,0:5].to_numpy()\n",
    "y_1= liv_data.iloc[:,6].to_numpy()"
   ]
  },
  {
   "cell_type": "code",
   "execution_count": 109,
   "id": "fc367812",
   "metadata": {},
   "outputs": [
    {
     "name": "stdout",
     "output_type": "stream",
     "text": [
      "X Shape:  (345, 5) y Shape:  (345,)\n"
     ]
    }
   ],
   "source": [
    "print(\"X Shape: \", X_1.shape, \"y Shape: \", y_1.shape)"
   ]
  },
  {
   "cell_type": "code",
   "execution_count": 110,
   "id": "a4359c44",
   "metadata": {},
   "outputs": [],
   "source": [
    "# Split data into training and testing sets\n",
    "X_train_1, X_test_1, y_train_1, y_test_1 = train_test_split(X_1, y_1, test_size=0.20)"
   ]
  },
  {
   "cell_type": "markdown",
   "id": "f9879897",
   "metadata": {},
   "source": [
    "Train models:\n"
   ]
  },
  {
   "cell_type": "code",
   "execution_count": 111,
   "id": "b79779e5",
   "metadata": {},
   "outputs": [],
   "source": [
    "np.random.seed(42)\n",
    "# Naive Bayes\n",
    "NBclf = GaussianNB()\n",
    "NBclf.fit(X_train_1, y_train_1)\n",
    "nb_preds = NBclf.predict(X_test_1)\n",
    "\n",
    "# SVM\n",
    "SVMclf = SVC()\n",
    "SVMclf.fit(X_train_1, y_train_1)\n",
    "svm_preds = SVMclf.predict(X_test_1)\n",
    "\n",
    "# Decision Tree\n",
    "DTclf = DecisionTreeClassifier()\n",
    "DTclf.fit(X_train_1, y_train_1)\n",
    "dt_preds = DTclf.predict(X_test_1)\n",
    "\n",
    "# RandomForest\n",
    "RFclf = RandomForestClassifier()\n",
    "RFclf.fit(X_train_1, y_train_1)\n",
    "rf_preds = RFclf.predict(X_test_1)\n",
    "\n",
    "# XGBoost\n",
    "XGBclf = xgb.XGBClassifier()\n",
    "XGBclf.fit(X_train_1, y_train_1==2)\n",
    "xgb_preds = XGBclf.predict(X_test_1)\n",
    "\n",
    "# Bagging\n",
    "BAGclf = BaggingClassifier()\n",
    "BAGclf.fit(X_train_1, y_train_1)\n",
    "bag_preds = BAGclf.predict(X_test_1)"
   ]
  },
  {
   "cell_type": "markdown",
   "id": "08c0eb9e",
   "metadata": {},
   "source": [
    "Get metrics:"
   ]
  },
  {
   "cell_type": "code",
   "execution_count": 114,
   "id": "c54d311a",
   "metadata": {},
   "outputs": [],
   "source": [
    "#Naive Bayes\n",
    "nb_metrics = [accuracy_score(y_test_1, nb_preds), \n",
    "              mean_squared_error(y_test_1, nb_preds, squared=True),\n",
    "              tpr(y_test_1, nb_preds, 2), \n",
    "              fpr(y_test_1, nb_preds, 2),\n",
    "              precision_score(y_test_1, nb_preds, pos_label =2), \n",
    "              recall_score(y_test_1, nb_preds, pos_label =2),\n",
    "              f1_score(y_test_1, nb_preds, pos_label =2),\n",
    "              roc_auc_score(y_test_1, NBclf.predict_proba(X_test_1)[:,1])]"
   ]
  },
  {
   "cell_type": "code",
   "execution_count": 115,
   "id": "18cd8e38",
   "metadata": {},
   "outputs": [],
   "source": [
    "# SVM\n",
    "svm_metrics = [accuracy_score(y_test_1, svm_preds), \n",
    "               mean_squared_error(y_test_1, svm_preds, squared=True),\n",
    "               tpr(y_test_1, svm_preds, 2), \n",
    "               fpr(y_test_1, svm_preds, 2),\n",
    "               precision_score(y_test_1, svm_preds, pos_label =2), \n",
    "               recall_score(y_test_1, svm_preds, pos_label =2),\n",
    "               f1_score(y_test_1, svm_preds, pos_label =2),\n",
    "               roc_auc_score(y_test_1, SVMclf.decision_function(X_test_1))]"
   ]
  },
  {
   "cell_type": "code",
   "execution_count": 116,
   "id": "13ebe0de",
   "metadata": {},
   "outputs": [],
   "source": [
    "# Decision Tree\n",
    "dt_metrics = [accuracy_score(y_test_1, dt_preds), \n",
    "              mean_squared_error(y_test_1, dt_preds, squared=True),\n",
    "              tpr(y_test_1, dt_preds, 2), \n",
    "              fpr(y_test_1, dt_preds, 2),\n",
    "              precision_score(y_test_1, dt_preds, pos_label =2), \n",
    "              recall_score(y_test_1, dt_preds, pos_label =2),\n",
    "              f1_score(y_test_1, dt_preds, pos_label =2),\n",
    "              roc_auc_score(y_test_1, DTclf.predict_proba(X_test_1)[:,1])]"
   ]
  },
  {
   "cell_type": "code",
   "execution_count": 117,
   "id": "6f8accbf",
   "metadata": {},
   "outputs": [],
   "source": [
    "# Random Forest\n",
    "rf_metrics = [accuracy_score(y_test_1, rf_preds), \n",
    "              mean_squared_error(y_test_1, rf_preds, squared=True),\n",
    "              tpr(y_test_1, rf_preds, 2), \n",
    "              fpr(y_test_1, rf_preds, 2),\n",
    "              precision_score(y_test_1, rf_preds, pos_label =2), \n",
    "              recall_score(y_test_1, rf_preds, pos_label =2),\n",
    "              f1_score(y_test_1, rf_preds, pos_label =2),\n",
    "              roc_auc_score(y_test_1, RFclf.predict_proba(X_test_1)[:,1])]"
   ]
  },
  {
   "cell_type": "code",
   "execution_count": 118,
   "id": "af925813",
   "metadata": {},
   "outputs": [],
   "source": [
    "# XGBoost\n",
    "xgb_metrics = [accuracy_score(y_test_1==2, xgb_preds), \n",
    "               mean_squared_error((y_test_1==2).astype(int), (xgb_preds).astype(int), squared=True),\n",
    "               tpr(y_test_1==2, xgb_preds, 1), \n",
    "               fpr(y_test_1==2, xgb_preds, 1),\n",
    "               precision_score(y_test_1==2, xgb_preds, pos_label =1), \n",
    "               recall_score(y_test_1==2, xgb_preds, pos_label =1),\n",
    "               f1_score(y_test_1==2, xgb_preds, pos_label =1),\n",
    "               roc_auc_score(y_test_1, XGBclf.predict_proba(X_test_1)[:,1])]"
   ]
  },
  {
   "cell_type": "code",
   "execution_count": 119,
   "id": "cc370970",
   "metadata": {},
   "outputs": [],
   "source": [
    "bag_metrics = [accuracy_score(y_test_1, bag_preds), \n",
    "              mean_squared_error(y_test_1, bag_preds, squared=True),\n",
    "              tpr(y_test_1, bag_preds, 2), \n",
    "              fpr(y_test_1, bag_preds, 2),\n",
    "              precision_score(y_test_1, bag_preds, pos_label =2), \n",
    "              recall_score(y_test_1, bag_preds, pos_label =2),\n",
    "              f1_score(y_test_1, bag_preds, pos_label =2),\n",
    "              roc_auc_score(y_test_1, BAGclf.predict_proba(X_test_1)[:,1])]"
   ]
  },
  {
   "cell_type": "markdown",
   "id": "7d0293bc",
   "metadata": {},
   "source": [
    "Combine results:"
   ]
  },
  {
   "cell_type": "code",
   "execution_count": 120,
   "id": "191d0b64",
   "metadata": {
    "scrolled": true
   },
   "outputs": [
    {
     "data": {
      "text/html": [
       "<div>\n",
       "<style scoped>\n",
       "    .dataframe tbody tr th:only-of-type {\n",
       "        vertical-align: middle;\n",
       "    }\n",
       "\n",
       "    .dataframe tbody tr th {\n",
       "        vertical-align: top;\n",
       "    }\n",
       "\n",
       "    .dataframe thead th {\n",
       "        text-align: right;\n",
       "    }\n",
       "</style>\n",
       "<table border=\"1\" class=\"dataframe\">\n",
       "  <thead>\n",
       "    <tr style=\"text-align: right;\">\n",
       "      <th></th>\n",
       "      <th>Model</th>\n",
       "      <th>Acc</th>\n",
       "      <th>RMSE</th>\n",
       "      <th>TPR</th>\n",
       "      <th>FPR</th>\n",
       "      <th>Prec</th>\n",
       "      <th>Rec</th>\n",
       "      <th>F</th>\n",
       "      <th>AUC</th>\n",
       "    </tr>\n",
       "  </thead>\n",
       "  <tbody>\n",
       "    <tr>\n",
       "      <th>0</th>\n",
       "      <td>NB</td>\n",
       "      <td>0.710145</td>\n",
       "      <td>0.289855</td>\n",
       "      <td>0.484848</td>\n",
       "      <td>0.083333</td>\n",
       "      <td>0.842105</td>\n",
       "      <td>0.484848</td>\n",
       "      <td>0.615385</td>\n",
       "      <td>0.745791</td>\n",
       "    </tr>\n",
       "    <tr>\n",
       "      <th>1</th>\n",
       "      <td>SVM</td>\n",
       "      <td>0.637681</td>\n",
       "      <td>0.362319</td>\n",
       "      <td>0.878788</td>\n",
       "      <td>0.583333</td>\n",
       "      <td>0.580000</td>\n",
       "      <td>0.878788</td>\n",
       "      <td>0.698795</td>\n",
       "      <td>0.712963</td>\n",
       "    </tr>\n",
       "    <tr>\n",
       "      <th>2</th>\n",
       "      <td>Decision Tree</td>\n",
       "      <td>0.681159</td>\n",
       "      <td>0.318841</td>\n",
       "      <td>0.757576</td>\n",
       "      <td>0.388889</td>\n",
       "      <td>0.641026</td>\n",
       "      <td>0.757576</td>\n",
       "      <td>0.694444</td>\n",
       "      <td>0.684343</td>\n",
       "    </tr>\n",
       "    <tr>\n",
       "      <th>3</th>\n",
       "      <td>Random Forest</td>\n",
       "      <td>0.753623</td>\n",
       "      <td>0.246377</td>\n",
       "      <td>0.787879</td>\n",
       "      <td>0.277778</td>\n",
       "      <td>0.722222</td>\n",
       "      <td>0.787879</td>\n",
       "      <td>0.753623</td>\n",
       "      <td>0.790825</td>\n",
       "    </tr>\n",
       "    <tr>\n",
       "      <th>4</th>\n",
       "      <td>XG Boost</td>\n",
       "      <td>0.782609</td>\n",
       "      <td>0.217391</td>\n",
       "      <td>0.787879</td>\n",
       "      <td>0.222222</td>\n",
       "      <td>0.764706</td>\n",
       "      <td>0.787879</td>\n",
       "      <td>0.776119</td>\n",
       "      <td>0.812290</td>\n",
       "    </tr>\n",
       "    <tr>\n",
       "      <th>5</th>\n",
       "      <td>Bagging</td>\n",
       "      <td>0.710145</td>\n",
       "      <td>0.289855</td>\n",
       "      <td>0.666667</td>\n",
       "      <td>0.250000</td>\n",
       "      <td>0.709677</td>\n",
       "      <td>0.666667</td>\n",
       "      <td>0.687500</td>\n",
       "      <td>0.697811</td>\n",
       "    </tr>\n",
       "  </tbody>\n",
       "</table>\n",
       "</div>"
      ],
      "text/plain": [
       "           Model       Acc      RMSE       TPR       FPR      Prec       Rec  \\\n",
       "0             NB  0.710145  0.289855  0.484848  0.083333  0.842105  0.484848   \n",
       "1            SVM  0.637681  0.362319  0.878788  0.583333  0.580000  0.878788   \n",
       "2  Decision Tree  0.681159  0.318841  0.757576  0.388889  0.641026  0.757576   \n",
       "3  Random Forest  0.753623  0.246377  0.787879  0.277778  0.722222  0.787879   \n",
       "4       XG Boost  0.782609  0.217391  0.787879  0.222222  0.764706  0.787879   \n",
       "5        Bagging  0.710145  0.289855  0.666667  0.250000  0.709677  0.666667   \n",
       "\n",
       "          F       AUC  \n",
       "0  0.615385  0.745791  \n",
       "1  0.698795  0.712963  \n",
       "2  0.694444  0.684343  \n",
       "3  0.753623  0.790825  \n",
       "4  0.776119  0.812290  \n",
       "5  0.687500  0.697811  "
      ]
     },
     "execution_count": 120,
     "metadata": {},
     "output_type": "execute_result"
    }
   ],
   "source": [
    "tbl_4_2 = pd.DataFrame(columns = [\"Model\", \"Acc\", \"RMSE\", \"TPR\", \"FPR\", \"Prec\", \"Rec\", \"F\", \"AUC\"])\n",
    "tbl_4_2.loc[len(tbl_4_2.index)] = [\"NB\"] + nb_metrics\n",
    "tbl_4_2.loc[len(tbl_4_2.index)] = [\"SVM\"] + svm_metrics\n",
    "tbl_4_2.loc[len(tbl_4_2.index)] = [\"Decision Tree\"] + dt_metrics\n",
    "tbl_4_2.loc[len(tbl_4_2.index)] = [\"Random Forest\"] + rf_metrics\n",
    "tbl_4_2.loc[len(tbl_4_2.index)] = [\"XG Boost\"] + xgb_metrics\n",
    "tbl_4_2.loc[len(tbl_4_2.index)] = [\"Bagging\"] + bag_metrics\n",
    "\n",
    "tbl_4_2"
   ]
  },
  {
   "cell_type": "markdown",
   "id": "db2df6f4",
   "metadata": {},
   "source": [
    "### Construction of Figures 5.2, 5.3, and 5.4\n",
    "\n",
    "#### 5.7 The ROC Space\n"
   ]
  },
  {
   "cell_type": "code",
   "execution_count": 14,
   "id": "7931fbca",
   "metadata": {},
   "outputs": [
    {
     "data": {
      "image/png": "[encoded data removed]",
      "text/plain": [
       "<Figure size 864x864 with 1 Axes>"
      ]
     },
     "metadata": {
      "needs_background": "light"
     },
     "output_type": "display_data"
    }
   ],
   "source": [
    "plt.figure(figsize=(12,12))\n",
    "plt.plot(0.2,0.8, \"k*\", ms=24)\n",
    "plt.plot(0.8,0.2, \"k*\", ms=24)\n",
    "plt.xlim(0,1)\n",
    "plt.ylim(0,1)\n",
    "plt.plot([0,1], [0,1], ls=\"--\", lw=2, color=\"gray\")\n",
    "plt.text(x=0.025, y=0.97, s=\"Best\", font={\"size\":20})\n",
    "plt.text(x=0.875, y=0.025, s=\"Worst\", font={\"size\":20})\n",
    "plt.text(x=0.08, y=0.025, s=\"Trivial (Negative)\", font={\"size\":20})\n",
    "plt.text(x=0.7, y=0.97, s=\"Trivial (Positive)\", font={\"size\":20})\n",
    "plt.xticks(font={\"size\":16})\n",
    "plt.yticks(font={\"size\":16})\n",
    "plt.ylabel(\"True Positive Rate\", font={\"size\":20}, fontweight=\"bold\")\n",
    "plt.xlabel(\"False Positive Rate\", font={\"size\":20}, fontweight=\"bold\")\n",
    "plt.text(x=0.05, y=0.73, s=\"reasonably good\", font={\"size\":20})\n",
    "plt.text(x=0.63, y=0.24, s=\"worse than random\", font={\"size\":20})\n",
    "plt.text(x=0.4, y=0.43, s=\"Random Classifier\", font={\"size\":20}, rotation=45)\n",
    "plt.savefig(\"./Figures/Table4-2.pdf\",format=\"pdf\",bbox_inches=\"tight\")\n",
    "plt.show()"
   ]
  },
  {
   "cell_type": "markdown",
   "id": "34ab33c2",
   "metadata": {},
   "source": [
    "#### An Example of an ROC Plot for Distinct Classifiers"
   ]
  },
  {
   "cell_type": "code",
   "execution_count": 15,
   "id": "b4888ca7",
   "metadata": {},
   "outputs": [
    {
     "data": {
      "image/png": "[encoded data removed]",
      "text/plain": [
       "<Figure size 864x864 with 1 Axes>"
      ]
     },
     "metadata": {
      "needs_background": "light"
     },
     "output_type": "display_data"
    }
   ],
   "source": [
    "plt.figure(figsize=(12,12))\n",
    "plt.plot(0.2,0.8, \"k*\", ms=24)\n",
    "plt.text(x=0.19, y=0.76, s=\"f2\", font = {\"size\":16})\n",
    "plt.plot(0.13,0.9, \"k*\", ms=24)\n",
    "plt.text(x=0.12, y=0.86, s=\"f3\", font = {\"size\":16})\n",
    "plt.plot(0.09,0.70, \"k*\", ms=24)\n",
    "plt.text(x=0.08, y=0.66, s=\"f1\", font = {\"size\":16})\n",
    "plt.plot(0.12,0.8, \"k*\", ms=24)\n",
    "plt.text(x=0.11, y=0.76, s=\"f4\", font = {\"size\":16})\n",
    "plt.plot(0.5,0.53, \"k*\", ms=24)\n",
    "plt.text(x=0.49, y=0.56, s=\"f5\", font = {\"size\":16})\n",
    "plt.plot(0.8,0.23, \"k*\", ms=24)\n",
    "plt.text(x=0.79, y=0.19, s=\"f6\", font = {\"size\":16})\n",
    "\n",
    "plt.xlim(0,1)\n",
    "plt.ylim(0,1)\n",
    "plt.plot([0,1], [0,1], ls=\"--\", lw=2, color=\"gray\")\n",
    "plt.xticks(font={\"size\":16})\n",
    "plt.yticks(font={\"size\":16})\n",
    "plt.ylabel(\"True Positive Rate\", font={\"size\":20}, fontweight=\"bold\")\n",
    "plt.xlabel(\"False Positive Rate\", font={\"size\":20}, fontweight=\"bold\")\n",
    "plt.savefig(\"./Figures/Table4-3.pdf\",format=\"pdf\",bbox_inches=\"tight\")\n",
    "plt.show()"
   ]
  },
  {
   "cell_type": "markdown",
   "id": "76780e6d",
   "metadata": {},
   "source": [
    "#### ROC Analysis for the Data of Table 5.11"
   ]
  },
  {
   "cell_type": "code",
   "execution_count": 16,
   "id": "8da907a0",
   "metadata": {
    "scrolled": false
   },
   "outputs": [
    {
     "data": {
      "image/png": "[encoded data removed]",
      "text/plain": [
       "<Figure size 864x864 with 1 Axes>"
      ]
     },
     "metadata": {
      "needs_background": "light"
     },
     "output_type": "display_data"
    }
   ],
   "source": [
    "plt.figure(figsize=(12,12))\n",
    "plt.xlim(0,1)\n",
    "plt.ylim(0,1.001)\n",
    "plt.xticks(font={\"size\":16})\n",
    "plt.yticks(font={\"size\":16})\n",
    "plt.ylabel(\"True Positive Rate\", font={\"size\":20}, fontweight=\"bold\")\n",
    "plt.xlabel(\"False Positive Rate\", font={\"size\":20}, fontweight=\"bold\")\n",
    "plt.plot([0,0.2,0.2,0.2, 0.4,0.4,0.6,0.6,0.8,1],\n",
    "        [0.2,0.2,0.4,0.6,0.6,0.8,0.8,1,1,1], lw=4, marker=\"*\", color=\"k\", ls=\"\", ms=20)\n",
    "plt.plot([0,0.2,0.2,0.2, 0.4,0.4,0.6,0.6,0.8,1],\n",
    "        [0.2,0.2,0.4,0.6,0.6,0.8,0.8,1,1,1], lw=4, marker=\"\", color=\"k\", ls=\"-\", ms=20)\n",
    "plt.savefig(\"./Figures/Table4-4.pdf\",format=\"pdf\",bbox_inches=\"tight\")\n",
    "plt.show()\n"
   ]
  }
 ],
 "metadata": {
  "kernelspec": {
   "display_name": "Python 3 (ipykernel)",
   "language": "python",
   "name": "python3"
  },
  "language_info": {
   "codemirror_mode": {
    "name": "ipython",
    "version": 3
   },
   "file_extension": ".py",
   "mimetype": "text/x-python",
   "name": "python",
   "nbconvert_exporter": "python",
   "pygments_lexer": "ipython3",
   "version": "3.9.11"
  }
 },
 "nbformat": 4,
 "nbformat_minor": 5
}
